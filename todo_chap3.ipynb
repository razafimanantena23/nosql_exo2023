{
 "cells": [
  {
   "cell_type": "code",
   "execution_count": 1,
   "id": "f60b358a",
   "metadata": {},
   "outputs": [],
   "source": [
    "import pymongo"
   ]
  },
  {
   "cell_type": "code",
   "execution_count": 2,
   "id": "e5b6d9b8",
   "metadata": {},
   "outputs": [],
   "source": [
    "### CRUD OPERATIONS"
   ]
  },
  {
   "cell_type": "code",
   "execution_count": 2,
   "id": "09e49b6e",
   "metadata": {},
   "outputs": [],
   "source": [
    "client = pymongo.MongoClient('localhost', 27017)\n",
    "# create db tutorial\n",
    "mydb = client[\"Todo\"]\n",
    "# create collection example\n",
    "collection = mydb[\"CRUD_exercise\"]"
   ]
  },
  {
   "cell_type": "code",
   "execution_count": 4,
   "id": "e80f03d4",
   "metadata": {},
   "outputs": [],
   "source": [
    "#TODO 1: Take the dict created in the TODO 4 in chapter II \n",
    "#and save it in the collection \"CRUD_exercise\"."
   ]
  },
  {
   "cell_type": "code",
   "execution_count": 5,
   "id": "bb0e71f9",
   "metadata": {},
   "outputs": [],
   "source": [
    "post={\"LeCun et al.\": {\"authors\": [\"Yann LeCun\", \"Yoshua Bengio\", \"Geoffrey Hinton\"], \"title\": \"Deep Learning\", \"affiliation\": \"Universit\\u00e9 de Montr\\u00e9al\"}, \n",
    "      \"Goodfellow et al.\": {\"authors\": [\"Ian J. Goodfellow\", \"Jean Pouget-Abadie\", \"Mehdi Mirza\", \"Bing Xu\", \"David Warde-Farley\", \"Sherjil Ozair\", \"Aaron Courville\", \"Yoshua Bengio\"], \"title\": \"Generative Adversarial Networks\", \"affiliation\": \"Cornell University\"}}"
   ]
  },
  {
   "cell_type": "code",
   "execution_count": 21,
   "id": "5d001e66",
   "metadata": {},
   "outputs": [
    {
     "data": {
      "text/plain": [
       "<pymongo.results.InsertOneResult at 0x2116182cdf0>"
      ]
     },
     "execution_count": 21,
     "metadata": {},
     "output_type": "execute_result"
    }
   ],
   "source": [
    "collection.insert_one(post)"
   ]
  },
  {
   "cell_type": "code",
   "execution_count": null,
   "id": "f0bedc74",
   "metadata": {},
   "outputs": [],
   "source": [
    "#TODO 2: Insert 3 documents with key = x and values = 1, delete one of them"
   ]
  },
  {
   "cell_type": "code",
   "execution_count": 23,
   "id": "9aeb62be",
   "metadata": {},
   "outputs": [
    {
     "name": "stderr",
     "output_type": "stream",
     "text": [
      "100%|██████████| 3/3 [00:00<00:00, 262.74it/s]\n"
     ]
    }
   ],
   "source": [
    "for i in tqdm.tqdm(range(3)):\n",
    "    new_post = {\"x\": 1}\n",
    "    collection.insert_one(new_post)"
   ]
  },
  {
   "cell_type": "code",
   "execution_count": 24,
   "id": "5fb38540",
   "metadata": {},
   "outputs": [
    {
     "name": "stdout",
     "output_type": "stream",
     "text": [
      "<pymongo.cursor.Cursor object at 0x000002115FBCEE50>\n",
      "{'_id': ObjectId('64307fa1df6a78a5d1206ae8'), 'LeCun et al.': {'authors': ['Yann LeCun', 'Yoshua Bengio', 'Geoffrey Hinton'], 'title': 'Deep Learning', 'affiliation': 'Université de Montréal'}, 'Goodfellow et al.': {'authors': ['Ian J. Goodfellow', 'Jean Pouget-Abadie', 'Mehdi Mirza', 'Bing Xu', 'David Warde-Farley', 'Sherjil Ozair', 'Aaron Courville', 'Yoshua Bengio'], 'title': 'Generative Adversarial Networks', 'affiliation': 'Cornell University'}}\n",
      "{'_id': ObjectId('64308272df6a78a5d1206aec'), 'x': 1}\n",
      "{'_id': ObjectId('64308272df6a78a5d1206aed'), 'x': 1}\n",
      "{'_id': ObjectId('64308272df6a78a5d1206aee'), 'x': 1}\n"
     ]
    }
   ],
   "source": [
    "docs = collection.find()\n",
    "print(docs)\n",
    "for doc in docs:\n",
    "    print(doc)"
   ]
  },
  {
   "cell_type": "code",
   "execution_count": 25,
   "id": "5ce9e499",
   "metadata": {},
   "outputs": [
    {
     "data": {
      "text/plain": [
       "<pymongo.results.DeleteResult at 0x2115fbc67f0>"
      ]
     },
     "execution_count": 25,
     "metadata": {},
     "output_type": "execute_result"
    }
   ],
   "source": [
    "collection.delete_one({'x': 1})"
   ]
  },
  {
   "cell_type": "code",
   "execution_count": 26,
   "id": "b9c54a1e",
   "metadata": {},
   "outputs": [
    {
     "name": "stdout",
     "output_type": "stream",
     "text": [
      "<pymongo.cursor.Cursor object at 0x000002115FBFB2B0>\n",
      "{'_id': ObjectId('64307fa1df6a78a5d1206ae8'), 'LeCun et al.': {'authors': ['Yann LeCun', 'Yoshua Bengio', 'Geoffrey Hinton'], 'title': 'Deep Learning', 'affiliation': 'Université de Montréal'}, 'Goodfellow et al.': {'authors': ['Ian J. Goodfellow', 'Jean Pouget-Abadie', 'Mehdi Mirza', 'Bing Xu', 'David Warde-Farley', 'Sherjil Ozair', 'Aaron Courville', 'Yoshua Bengio'], 'title': 'Generative Adversarial Networks', 'affiliation': 'Cornell University'}}\n",
      "{'_id': ObjectId('64308272df6a78a5d1206aed'), 'x': 1}\n",
      "{'_id': ObjectId('64308272df6a78a5d1206aee'), 'x': 1}\n"
     ]
    }
   ],
   "source": [
    "docs = collection.find()\n",
    "print(docs)\n",
    "for doc in docs:\n",
    "    print(doc)"
   ]
  },
  {
   "cell_type": "code",
   "execution_count": 27,
   "id": "058cfa69",
   "metadata": {},
   "outputs": [],
   "source": [
    "#Which one is deleted first ? the oldest one "
   ]
  },
  {
   "cell_type": "code",
   "execution_count": 28,
   "id": "796e75a5",
   "metadata": {},
   "outputs": [
    {
     "data": {
      "text/plain": [
       "<pymongo.results.UpdateResult at 0x211619f07f0>"
      ]
     },
     "execution_count": 28,
     "metadata": {},
     "output_type": "execute_result"
    }
   ],
   "source": [
    "#increment the value of x to 4.\n",
    "collection.update_many({'x': 1}, {'$inc': {'x': 4}})"
   ]
  },
  {
   "cell_type": "code",
   "execution_count": 30,
   "id": "01a66f18",
   "metadata": {},
   "outputs": [
    {
     "data": {
      "text/plain": [
       "<pymongo.results.UpdateResult at 0x2115fbc6d00>"
      ]
     },
     "execution_count": 30,
     "metadata": {},
     "output_type": "execute_result"
    }
   ],
   "source": [
    "collection.update_many({'x': 5}, {'$set': {'x': 4}})"
   ]
  },
  {
   "cell_type": "code",
   "execution_count": 32,
   "id": "5cde87f9",
   "metadata": {},
   "outputs": [],
   "source": [
    "#TODO 3: Insert the dict created in the TODO 6 Chapter II in the example collection."
   ]
  },
  {
   "cell_type": "code",
   "execution_count": 4,
   "id": "37f3d1cd",
   "metadata": {},
   "outputs": [],
   "source": [
    "client2 = pymongo.MongoClient('localhost', 27017)\n",
    "# create db tutorial\n",
    "mydb2 = client2[\"tutorial\"]\n",
    "# create collection example\n",
    "collection2 = mydb2[\"example\"]"
   ]
  },
  {
   "cell_type": "code",
   "execution_count": 59,
   "id": "bcf1413e",
   "metadata": {},
   "outputs": [
    {
     "name": "stdout",
     "output_type": "stream",
     "text": [
      "<pymongo.cursor.Cursor object at 0x000001BECD6CFD00>\n",
      "{'_id': ObjectId('643162fb6a366a4b5bc8480a'), 'authors': ['Auteur1', 'Auteur2', 'Auteur3'], 'title': 'This is paper 1', 'affiliations': ['University of Mannheim', 'University of Strasbourg', 'University of wonders'], 'ref': ['This is ref 1', 'This is ref 2', 'This is ref 3']}\n",
      "{'_id': ObjectId('643163376a366a4b5bc8480b'), 'authors': ['Auteur1'], 'title': 'This is paper 2', 'affiliations': ['University of Turing'], 'ref': ['This is ref 1', 'This is ref 2']}\n",
      "{'_id': ObjectId('643163626a366a4b5bc8480d'), 'author': 'Eliot', 'title': 'MongoDB is fun', 'text': 'and pretty easy too!', 'date': datetime.datetime(2009, 11, 10, 10, 45)}\n",
      "{'_id': ObjectId('643163716a366a4b5bc84810'), 'x': 1}\n",
      "{'_id': ObjectId('643163716a366a4b5bc84811'), 'x': 1}\n",
      "{'_id': ObjectId('64316768633c86d5901f76a5'), 'date': ['2015-09-01'], 'hour': ['08:30'], 'recipient': ['Tove'], 'sender': ['Jani'], 'body': [\"Don't forget me this weekend!\"]}\n"
     ]
    }
   ],
   "source": [
    "données = collection2.find()\n",
    "print(données)\n",
    "for d in données:\n",
    "    print(d)"
   ]
  },
  {
   "cell_type": "code",
   "execution_count": 15,
   "id": "43c36afd",
   "metadata": {},
   "outputs": [],
   "source": [
    "dict_chap2={\"date\": [\"2015-09-01\"], \"hour\": [\"08:30\"], \"recipient\": [\"Tove\"], \"sender\": [\"Jani\"], \"body\": [\"Don't forget me this weekend!\"]}"
   ]
  },
  {
   "cell_type": "code",
   "execution_count": 16,
   "id": "c839867f",
   "metadata": {},
   "outputs": [
    {
     "data": {
      "text/plain": [
       "<pymongo.results.InsertOneResult at 0x1becd55b1c0>"
      ]
     },
     "execution_count": 16,
     "metadata": {},
     "output_type": "execute_result"
    }
   ],
   "source": [
    "collection2.insert_one(dict_chap2)"
   ]
  },
  {
   "cell_type": "code",
   "execution_count": 18,
   "id": "493eb01f",
   "metadata": {},
   "outputs": [],
   "source": [
    "#TODO 4: Get documents where authors key exist in the collection \"CRUD_exercise\"."
   ]
  },
  {
   "cell_type": "code",
   "execution_count": 44,
   "id": "95f039d4",
   "metadata": {},
   "outputs": [
    {
     "name": "stdout",
     "output_type": "stream",
     "text": [
      "None\n"
     ]
    }
   ],
   "source": [
    "key=collection.find_one({'authors': {\"$exists\": True}})\n",
    "print(key)"
   ]
  },
  {
   "cell_type": "code",
   "execution_count": 45,
   "id": "afd473d9",
   "metadata": {},
   "outputs": [],
   "source": [
    "#TODO 5: Change the documents where x = 4 to x = 1."
   ]
  },
  {
   "cell_type": "code",
   "execution_count": 46,
   "id": "568e49f2",
   "metadata": {},
   "outputs": [
    {
     "data": {
      "text/plain": [
       "<pymongo.results.UpdateResult at 0x1becd54efd0>"
      ]
     },
     "execution_count": 46,
     "metadata": {},
     "output_type": "execute_result"
    }
   ],
   "source": [
    "collection.update_many({'x': 4}, {'$set': {'x': 1}})"
   ]
  },
  {
   "cell_type": "code",
   "execution_count": 47,
   "id": "0a1b5ca7",
   "metadata": {},
   "outputs": [
    {
     "data": {
      "text/plain": [
       "<pymongo.results.UpdateResult at 0x1becb8f5e50>"
      ]
     },
     "execution_count": 47,
     "metadata": {},
     "output_type": "execute_result"
    }
   ],
   "source": [
    "collection2.update_many({'x': 4}, {'$set': {'x': 1}})"
   ]
  },
  {
   "cell_type": "code",
   "execution_count": 49,
   "id": "11630f47",
   "metadata": {},
   "outputs": [],
   "source": [
    "#TODO 6: Find documents where author is not_mike and set author as real_mike."
   ]
  },
  {
   "cell_type": "code",
   "execution_count": 54,
   "id": "e4c0bf99",
   "metadata": {},
   "outputs": [
    {
     "name": "stdout",
     "output_type": "stream",
     "text": [
      "None\n"
     ]
    }
   ],
   "source": [
    "a=collection.find_one_and_update({'author': \"not_mike\"}, {'$set': {'author': \"real_mike\"}})\n",
    "print(a)"
   ]
  },
  {
   "cell_type": "code",
   "execution_count": 55,
   "id": "55f4af7a",
   "metadata": {},
   "outputs": [
    {
     "name": "stdout",
     "output_type": "stream",
     "text": [
      "{'_id': ObjectId('643163626a366a4b5bc8480c'), 'author': 'not_mike', 'title': 'Python is fun', 'text': 'Another post!', 'tags': ['bulk', 'insert'], 'date': datetime.datetime(2009, 11, 12, 11, 14)}\n"
     ]
    }
   ],
   "source": [
    "b=collection2.find_one_and_update({'author': \"not_mike\"}, {'$set': {'author': \"real_mike\"}})\n",
    "print(b)"
   ]
  },
  {
   "cell_type": "code",
   "execution_count": 57,
   "id": "09a87a41",
   "metadata": {},
   "outputs": [],
   "source": [
    "#TODO 7: Delete documents where author is real_mike."
   ]
  },
  {
   "cell_type": "code",
   "execution_count": 58,
   "id": "5e823d0f",
   "metadata": {},
   "outputs": [
    {
     "data": {
      "text/plain": [
       "<pymongo.results.DeleteResult at 0x1becb90d880>"
      ]
     },
     "execution_count": 58,
     "metadata": {},
     "output_type": "execute_result"
    }
   ],
   "source": [
    "collection2.delete_many({'author': 'real_mike'})"
   ]
  },
  {
   "cell_type": "code",
   "execution_count": 60,
   "id": "b75edf1b",
   "metadata": {},
   "outputs": [],
   "source": [
    "#Managing DB"
   ]
  },
  {
   "cell_type": "code",
   "execution_count": 61,
   "id": "698590f3",
   "metadata": {},
   "outputs": [],
   "source": [
    "#TODO 8: create a collection named \"CRUD_exercise_benchmark\" with 500k observations,\n",
    "#ids increment of 2 (sequence:0,2,4,6,...1M). Give a random np.array with a key named \"values\" \n",
    "#and use the insert_many. \n",
    "#Then create an index on the id and benchmark queries before and after indexing. Did the index help ?"
   ]
  },
  {
   "cell_type": "code",
   "execution_count": 71,
   "id": "2f243be6",
   "metadata": {},
   "outputs": [],
   "source": [
    "import numpy as np\n",
    "import tqdm"
   ]
  },
  {
   "cell_type": "code",
   "execution_count": 72,
   "id": "596fd19c",
   "metadata": {},
   "outputs": [],
   "source": [
    "client = pymongo.MongoClient('localhost',27017)\n",
    "mydb = client[\"tutorial\"]\n",
    "collection = mydb[\"CRUD_exercise_benchmark\"]"
   ]
  },
  {
   "cell_type": "code",
   "execution_count": 90,
   "id": "2f261b60",
   "metadata": {},
   "outputs": [
    {
     "name": "stderr",
     "output_type": "stream",
     "text": [
      "100%|██████████| 500000/500000 [00:04<00:00, 105304.91it/s]\n"
     ]
    },
    {
     "data": {
      "text/plain": [
       "<pymongo.results.InsertManyResult at 0x1becdb1d9d0>"
      ]
     },
     "execution_count": 90,
     "metadata": {},
     "output_type": "execute_result"
    }
   ],
   "source": [
    "list_of_insertion = []\n",
    "for i in tqdm.tqdm(range(0, 1000000, 2)):\n",
    "    post = {\"_id\": i, \n",
    "             \"values\": np.random.rand(5).tolist()}\n",
    "    list_of_insertion.append(post)\n",
    "collection.insert_many(list_of_insertion)"
   ]
  },
  {
   "cell_type": "code",
   "execution_count": 94,
   "id": "4ab3e2e6",
   "metadata": {},
   "outputs": [
    {
     "data": {
      "text/plain": [
       "'_id_1'"
      ]
     },
     "execution_count": 94,
     "metadata": {},
     "output_type": "execute_result"
    }
   ],
   "source": [
    "collection.create_index([ (\"_id\",1) ])"
   ]
  },
  {
   "cell_type": "code",
   "execution_count": 95,
   "id": "ca9c49d7",
   "metadata": {},
   "outputs": [],
   "source": [
    "import timeit"
   ]
  },
  {
   "cell_type": "code",
   "execution_count": 96,
   "id": "d6667244",
   "metadata": {},
   "outputs": [],
   "source": [
    "def query_without_index():\n",
    "    cursor = collection.find({\"_id\": {\"$lt\": 100000}})\n",
    "    for document in cursor:\n",
    "        pass"
   ]
  },
  {
   "cell_type": "code",
   "execution_count": 97,
   "id": "f584b4cd",
   "metadata": {},
   "outputs": [],
   "source": [
    "time_without_index = timeit.timeit(query_without_index, number=100)"
   ]
  },
  {
   "cell_type": "code",
   "execution_count": 98,
   "id": "f4985911",
   "metadata": {},
   "outputs": [],
   "source": [
    "def query_with_index():\n",
    "    cursor = collection.find({\"_id\": {\"$lt\": 100000}}).sort(\"_id\", 1)\n",
    "    for document in cursor:\n",
    "        pass"
   ]
  },
  {
   "cell_type": "code",
   "execution_count": 99,
   "id": "c39f1b66",
   "metadata": {},
   "outputs": [
    {
     "name": "stdout",
     "output_type": "stream",
     "text": [
      "Time without index: 37.0544 seconds\n",
      "Time with index: 36.0808 seconds\n"
     ]
    }
   ],
   "source": [
    "time_with_index = timeit.timeit(query_with_index, number=100)\n",
    "\n",
    "print(f\"Time without index: {time_without_index:.4f} seconds\")\n",
    "print(f\"Time with index: {time_with_index:.4f} seconds\")"
   ]
  },
  {
   "cell_type": "code",
   "execution_count": 100,
   "id": "12fb2baa",
   "metadata": {},
   "outputs": [],
   "source": [
    "#TODO 9: create a random collection in a random db and put the new collection in the tutorial DB"
   ]
  },
  {
   "cell_type": "code",
   "execution_count": 101,
   "id": "a4849501",
   "metadata": {},
   "outputs": [],
   "source": [
    "db_name = \"mydb_\" + str(np.random.randint(10000))"
   ]
  },
  {
   "cell_type": "code",
   "execution_count": 102,
   "id": "35acf937",
   "metadata": {},
   "outputs": [],
   "source": [
    "db = client[db_name]\n",
    "collection = db[\"random_collection\"]"
   ]
  },
  {
   "cell_type": "code",
   "execution_count": 103,
   "id": "a1eaa2a3",
   "metadata": {},
   "outputs": [
    {
     "data": {
      "text/plain": [
       "'mydb_6006'"
      ]
     },
     "execution_count": 103,
     "metadata": {},
     "output_type": "execute_result"
    }
   ],
   "source": [
    "db_name"
   ]
  },
  {
   "cell_type": "code",
   "execution_count": 104,
   "id": "edfb602f",
   "metadata": {},
   "outputs": [],
   "source": [
    "tutorial_db=client[\"tutorial\"]"
   ]
  },
  {
   "cell_type": "code",
   "execution_count": 105,
   "id": "16b159d3",
   "metadata": {},
   "outputs": [],
   "source": [
    "collection = tutorial_db [\"new_collection\"]"
   ]
  },
  {
   "cell_type": "code",
   "execution_count": 107,
   "id": "b4213856",
   "metadata": {},
   "outputs": [],
   "source": [
    "#Real world problems"
   ]
  },
  {
   "cell_type": "code",
   "execution_count": 108,
   "id": "1b042c49",
   "metadata": {},
   "outputs": [],
   "source": [
    "#TODO 11: Use the oaipmh and api code get papers \"econ\" categories. Insert them in MongoDB. Import only the first 200. \n",
    "#How is it sorted ? How can you define your own sort()? \n",
    "#Query papers to get papers after 2021, which have 3 authors and with domain \"cs\"."
   ]
  },
  {
   "cell_type": "code",
   "execution_count": null,
   "id": "8eee4d90",
   "metadata": {},
   "outputs": [],
   "source": []
  }
 ],
 "metadata": {
  "kernelspec": {
   "display_name": "Python 3 (ipykernel)",
   "language": "python",
   "name": "python3"
  },
  "language_info": {
   "codemirror_mode": {
    "name": "ipython",
    "version": 3
   },
   "file_extension": ".py",
   "mimetype": "text/x-python",
   "name": "python",
   "nbconvert_exporter": "python",
   "pygments_lexer": "ipython3",
   "version": "3.9.13"
  }
 },
 "nbformat": 4,
 "nbformat_minor": 5
}
