{
 "cells": [
  {
   "cell_type": "code",
   "execution_count": 1,
   "id": "21b85030",
   "metadata": {},
   "outputs": [],
   "source": [
    "import pandas as pd"
   ]
  },
  {
   "cell_type": "code",
   "execution_count": 2,
   "id": "5871b314",
   "metadata": {},
   "outputs": [],
   "source": [
    "#TODO 1: Read all the data from bc.csv, how many rows is there ? Columns ?"
   ]
  },
  {
   "cell_type": "code",
   "execution_count": 2,
   "id": "7cd2b422",
   "metadata": {},
   "outputs": [],
   "source": [
    "df = pd.read_csv(\"bc.csv\")"
   ]
  },
  {
   "cell_type": "code",
   "execution_count": 3,
   "id": "b52c4b68",
   "metadata": {},
   "outputs": [
    {
     "data": {
      "text/html": [
       "<div>\n",
       "<style scoped>\n",
       "    .dataframe tbody tr th:only-of-type {\n",
       "        vertical-align: middle;\n",
       "    }\n",
       "\n",
       "    .dataframe tbody tr th {\n",
       "        vertical-align: top;\n",
       "    }\n",
       "\n",
       "    .dataframe thead th {\n",
       "        text-align: right;\n",
       "    }\n",
       "</style>\n",
       "<table border=\"1\" class=\"dataframe\">\n",
       "  <thead>\n",
       "    <tr style=\"text-align: right;\">\n",
       "      <th></th>\n",
       "      <th>id</th>\n",
       "      <th>diagnosis</th>\n",
       "      <th>radius_mean</th>\n",
       "      <th>texture_mean</th>\n",
       "      <th>perimeter_mean</th>\n",
       "      <th>area_mean</th>\n",
       "      <th>smoothness_mean</th>\n",
       "      <th>compactness_mean</th>\n",
       "      <th>concavity_mean</th>\n",
       "      <th>concave points_mean</th>\n",
       "      <th>...</th>\n",
       "      <th>texture_worst</th>\n",
       "      <th>perimeter_worst</th>\n",
       "      <th>area_worst</th>\n",
       "      <th>smoothness_worst</th>\n",
       "      <th>compactness_worst</th>\n",
       "      <th>concavity_worst</th>\n",
       "      <th>concave points_worst</th>\n",
       "      <th>symmetry_worst</th>\n",
       "      <th>fractal_dimension_worst</th>\n",
       "      <th>Unnamed: 32</th>\n",
       "    </tr>\n",
       "  </thead>\n",
       "  <tbody>\n",
       "    <tr>\n",
       "      <th>0</th>\n",
       "      <td>842302</td>\n",
       "      <td>M</td>\n",
       "      <td>17.99</td>\n",
       "      <td>10.38</td>\n",
       "      <td>122.80</td>\n",
       "      <td>1001.0</td>\n",
       "      <td>0.11840</td>\n",
       "      <td>0.27760</td>\n",
       "      <td>0.30010</td>\n",
       "      <td>0.14710</td>\n",
       "      <td>...</td>\n",
       "      <td>17.33</td>\n",
       "      <td>184.60</td>\n",
       "      <td>2019.0</td>\n",
       "      <td>0.16220</td>\n",
       "      <td>0.66560</td>\n",
       "      <td>0.7119</td>\n",
       "      <td>0.2654</td>\n",
       "      <td>0.4601</td>\n",
       "      <td>0.11890</td>\n",
       "      <td>NaN</td>\n",
       "    </tr>\n",
       "    <tr>\n",
       "      <th>1</th>\n",
       "      <td>842517</td>\n",
       "      <td>M</td>\n",
       "      <td>20.57</td>\n",
       "      <td>17.77</td>\n",
       "      <td>132.90</td>\n",
       "      <td>1326.0</td>\n",
       "      <td>0.08474</td>\n",
       "      <td>0.07864</td>\n",
       "      <td>0.08690</td>\n",
       "      <td>0.07017</td>\n",
       "      <td>...</td>\n",
       "      <td>23.41</td>\n",
       "      <td>158.80</td>\n",
       "      <td>1956.0</td>\n",
       "      <td>0.12380</td>\n",
       "      <td>0.18660</td>\n",
       "      <td>0.2416</td>\n",
       "      <td>0.1860</td>\n",
       "      <td>0.2750</td>\n",
       "      <td>0.08902</td>\n",
       "      <td>NaN</td>\n",
       "    </tr>\n",
       "    <tr>\n",
       "      <th>2</th>\n",
       "      <td>84300903</td>\n",
       "      <td>M</td>\n",
       "      <td>19.69</td>\n",
       "      <td>21.25</td>\n",
       "      <td>130.00</td>\n",
       "      <td>1203.0</td>\n",
       "      <td>0.10960</td>\n",
       "      <td>0.15990</td>\n",
       "      <td>0.19740</td>\n",
       "      <td>0.12790</td>\n",
       "      <td>...</td>\n",
       "      <td>25.53</td>\n",
       "      <td>152.50</td>\n",
       "      <td>1709.0</td>\n",
       "      <td>0.14440</td>\n",
       "      <td>0.42450</td>\n",
       "      <td>0.4504</td>\n",
       "      <td>0.2430</td>\n",
       "      <td>0.3613</td>\n",
       "      <td>0.08758</td>\n",
       "      <td>NaN</td>\n",
       "    </tr>\n",
       "    <tr>\n",
       "      <th>3</th>\n",
       "      <td>84348301</td>\n",
       "      <td>M</td>\n",
       "      <td>11.42</td>\n",
       "      <td>20.38</td>\n",
       "      <td>77.58</td>\n",
       "      <td>386.1</td>\n",
       "      <td>0.14250</td>\n",
       "      <td>0.28390</td>\n",
       "      <td>0.24140</td>\n",
       "      <td>0.10520</td>\n",
       "      <td>...</td>\n",
       "      <td>26.50</td>\n",
       "      <td>98.87</td>\n",
       "      <td>567.7</td>\n",
       "      <td>0.20980</td>\n",
       "      <td>0.86630</td>\n",
       "      <td>0.6869</td>\n",
       "      <td>0.2575</td>\n",
       "      <td>0.6638</td>\n",
       "      <td>0.17300</td>\n",
       "      <td>NaN</td>\n",
       "    </tr>\n",
       "    <tr>\n",
       "      <th>4</th>\n",
       "      <td>84358402</td>\n",
       "      <td>M</td>\n",
       "      <td>20.29</td>\n",
       "      <td>14.34</td>\n",
       "      <td>135.10</td>\n",
       "      <td>1297.0</td>\n",
       "      <td>0.10030</td>\n",
       "      <td>0.13280</td>\n",
       "      <td>0.19800</td>\n",
       "      <td>0.10430</td>\n",
       "      <td>...</td>\n",
       "      <td>16.67</td>\n",
       "      <td>152.20</td>\n",
       "      <td>1575.0</td>\n",
       "      <td>0.13740</td>\n",
       "      <td>0.20500</td>\n",
       "      <td>0.4000</td>\n",
       "      <td>0.1625</td>\n",
       "      <td>0.2364</td>\n",
       "      <td>0.07678</td>\n",
       "      <td>NaN</td>\n",
       "    </tr>\n",
       "    <tr>\n",
       "      <th>...</th>\n",
       "      <td>...</td>\n",
       "      <td>...</td>\n",
       "      <td>...</td>\n",
       "      <td>...</td>\n",
       "      <td>...</td>\n",
       "      <td>...</td>\n",
       "      <td>...</td>\n",
       "      <td>...</td>\n",
       "      <td>...</td>\n",
       "      <td>...</td>\n",
       "      <td>...</td>\n",
       "      <td>...</td>\n",
       "      <td>...</td>\n",
       "      <td>...</td>\n",
       "      <td>...</td>\n",
       "      <td>...</td>\n",
       "      <td>...</td>\n",
       "      <td>...</td>\n",
       "      <td>...</td>\n",
       "      <td>...</td>\n",
       "      <td>...</td>\n",
       "    </tr>\n",
       "    <tr>\n",
       "      <th>564</th>\n",
       "      <td>926424</td>\n",
       "      <td>M</td>\n",
       "      <td>21.56</td>\n",
       "      <td>22.39</td>\n",
       "      <td>142.00</td>\n",
       "      <td>1479.0</td>\n",
       "      <td>0.11100</td>\n",
       "      <td>0.11590</td>\n",
       "      <td>0.24390</td>\n",
       "      <td>0.13890</td>\n",
       "      <td>...</td>\n",
       "      <td>26.40</td>\n",
       "      <td>166.10</td>\n",
       "      <td>2027.0</td>\n",
       "      <td>0.14100</td>\n",
       "      <td>0.21130</td>\n",
       "      <td>0.4107</td>\n",
       "      <td>0.2216</td>\n",
       "      <td>0.2060</td>\n",
       "      <td>0.07115</td>\n",
       "      <td>NaN</td>\n",
       "    </tr>\n",
       "    <tr>\n",
       "      <th>565</th>\n",
       "      <td>926682</td>\n",
       "      <td>M</td>\n",
       "      <td>20.13</td>\n",
       "      <td>28.25</td>\n",
       "      <td>131.20</td>\n",
       "      <td>1261.0</td>\n",
       "      <td>0.09780</td>\n",
       "      <td>0.10340</td>\n",
       "      <td>0.14400</td>\n",
       "      <td>0.09791</td>\n",
       "      <td>...</td>\n",
       "      <td>38.25</td>\n",
       "      <td>155.00</td>\n",
       "      <td>1731.0</td>\n",
       "      <td>0.11660</td>\n",
       "      <td>0.19220</td>\n",
       "      <td>0.3215</td>\n",
       "      <td>0.1628</td>\n",
       "      <td>0.2572</td>\n",
       "      <td>0.06637</td>\n",
       "      <td>NaN</td>\n",
       "    </tr>\n",
       "    <tr>\n",
       "      <th>566</th>\n",
       "      <td>926954</td>\n",
       "      <td>M</td>\n",
       "      <td>16.60</td>\n",
       "      <td>28.08</td>\n",
       "      <td>108.30</td>\n",
       "      <td>858.1</td>\n",
       "      <td>0.08455</td>\n",
       "      <td>0.10230</td>\n",
       "      <td>0.09251</td>\n",
       "      <td>0.05302</td>\n",
       "      <td>...</td>\n",
       "      <td>34.12</td>\n",
       "      <td>126.70</td>\n",
       "      <td>1124.0</td>\n",
       "      <td>0.11390</td>\n",
       "      <td>0.30940</td>\n",
       "      <td>0.3403</td>\n",
       "      <td>0.1418</td>\n",
       "      <td>0.2218</td>\n",
       "      <td>0.07820</td>\n",
       "      <td>NaN</td>\n",
       "    </tr>\n",
       "    <tr>\n",
       "      <th>567</th>\n",
       "      <td>927241</td>\n",
       "      <td>M</td>\n",
       "      <td>20.60</td>\n",
       "      <td>29.33</td>\n",
       "      <td>140.10</td>\n",
       "      <td>1265.0</td>\n",
       "      <td>0.11780</td>\n",
       "      <td>0.27700</td>\n",
       "      <td>0.35140</td>\n",
       "      <td>0.15200</td>\n",
       "      <td>...</td>\n",
       "      <td>39.42</td>\n",
       "      <td>184.60</td>\n",
       "      <td>1821.0</td>\n",
       "      <td>0.16500</td>\n",
       "      <td>0.86810</td>\n",
       "      <td>0.9387</td>\n",
       "      <td>0.2650</td>\n",
       "      <td>0.4087</td>\n",
       "      <td>0.12400</td>\n",
       "      <td>NaN</td>\n",
       "    </tr>\n",
       "    <tr>\n",
       "      <th>568</th>\n",
       "      <td>92751</td>\n",
       "      <td>B</td>\n",
       "      <td>7.76</td>\n",
       "      <td>24.54</td>\n",
       "      <td>47.92</td>\n",
       "      <td>181.0</td>\n",
       "      <td>0.05263</td>\n",
       "      <td>0.04362</td>\n",
       "      <td>0.00000</td>\n",
       "      <td>0.00000</td>\n",
       "      <td>...</td>\n",
       "      <td>30.37</td>\n",
       "      <td>59.16</td>\n",
       "      <td>268.6</td>\n",
       "      <td>0.08996</td>\n",
       "      <td>0.06444</td>\n",
       "      <td>0.0000</td>\n",
       "      <td>0.0000</td>\n",
       "      <td>0.2871</td>\n",
       "      <td>0.07039</td>\n",
       "      <td>NaN</td>\n",
       "    </tr>\n",
       "  </tbody>\n",
       "</table>\n",
       "<p>569 rows × 33 columns</p>\n",
       "</div>"
      ],
      "text/plain": [
       "           id diagnosis  radius_mean  texture_mean  perimeter_mean  area_mean  \\\n",
       "0      842302         M        17.99         10.38          122.80     1001.0   \n",
       "1      842517         M        20.57         17.77          132.90     1326.0   \n",
       "2    84300903         M        19.69         21.25          130.00     1203.0   \n",
       "3    84348301         M        11.42         20.38           77.58      386.1   \n",
       "4    84358402         M        20.29         14.34          135.10     1297.0   \n",
       "..        ...       ...          ...           ...             ...        ...   \n",
       "564    926424         M        21.56         22.39          142.00     1479.0   \n",
       "565    926682         M        20.13         28.25          131.20     1261.0   \n",
       "566    926954         M        16.60         28.08          108.30      858.1   \n",
       "567    927241         M        20.60         29.33          140.10     1265.0   \n",
       "568     92751         B         7.76         24.54           47.92      181.0   \n",
       "\n",
       "     smoothness_mean  compactness_mean  concavity_mean  concave points_mean  \\\n",
       "0            0.11840           0.27760         0.30010              0.14710   \n",
       "1            0.08474           0.07864         0.08690              0.07017   \n",
       "2            0.10960           0.15990         0.19740              0.12790   \n",
       "3            0.14250           0.28390         0.24140              0.10520   \n",
       "4            0.10030           0.13280         0.19800              0.10430   \n",
       "..               ...               ...             ...                  ...   \n",
       "564          0.11100           0.11590         0.24390              0.13890   \n",
       "565          0.09780           0.10340         0.14400              0.09791   \n",
       "566          0.08455           0.10230         0.09251              0.05302   \n",
       "567          0.11780           0.27700         0.35140              0.15200   \n",
       "568          0.05263           0.04362         0.00000              0.00000   \n",
       "\n",
       "     ...  texture_worst  perimeter_worst  area_worst  smoothness_worst  \\\n",
       "0    ...          17.33           184.60      2019.0           0.16220   \n",
       "1    ...          23.41           158.80      1956.0           0.12380   \n",
       "2    ...          25.53           152.50      1709.0           0.14440   \n",
       "3    ...          26.50            98.87       567.7           0.20980   \n",
       "4    ...          16.67           152.20      1575.0           0.13740   \n",
       "..   ...            ...              ...         ...               ...   \n",
       "564  ...          26.40           166.10      2027.0           0.14100   \n",
       "565  ...          38.25           155.00      1731.0           0.11660   \n",
       "566  ...          34.12           126.70      1124.0           0.11390   \n",
       "567  ...          39.42           184.60      1821.0           0.16500   \n",
       "568  ...          30.37            59.16       268.6           0.08996   \n",
       "\n",
       "     compactness_worst  concavity_worst  concave points_worst  symmetry_worst  \\\n",
       "0              0.66560           0.7119                0.2654          0.4601   \n",
       "1              0.18660           0.2416                0.1860          0.2750   \n",
       "2              0.42450           0.4504                0.2430          0.3613   \n",
       "3              0.86630           0.6869                0.2575          0.6638   \n",
       "4              0.20500           0.4000                0.1625          0.2364   \n",
       "..                 ...              ...                   ...             ...   \n",
       "564            0.21130           0.4107                0.2216          0.2060   \n",
       "565            0.19220           0.3215                0.1628          0.2572   \n",
       "566            0.30940           0.3403                0.1418          0.2218   \n",
       "567            0.86810           0.9387                0.2650          0.4087   \n",
       "568            0.06444           0.0000                0.0000          0.2871   \n",
       "\n",
       "     fractal_dimension_worst  Unnamed: 32  \n",
       "0                    0.11890          NaN  \n",
       "1                    0.08902          NaN  \n",
       "2                    0.08758          NaN  \n",
       "3                    0.17300          NaN  \n",
       "4                    0.07678          NaN  \n",
       "..                       ...          ...  \n",
       "564                  0.07115          NaN  \n",
       "565                  0.06637          NaN  \n",
       "566                  0.07820          NaN  \n",
       "567                  0.12400          NaN  \n",
       "568                  0.07039          NaN  \n",
       "\n",
       "[569 rows x 33 columns]"
      ]
     },
     "execution_count": 3,
     "metadata": {},
     "output_type": "execute_result"
    }
   ],
   "source": [
    "df"
   ]
  },
  {
   "cell_type": "code",
   "execution_count": 4,
   "id": "33de13af",
   "metadata": {},
   "outputs": [],
   "source": [
    "#TODO 2: Insert the bc.csv in the sqlite format\n",
    "import tqdm\n",
    "import sqlite3"
   ]
  },
  {
   "cell_type": "code",
   "execution_count": 5,
   "id": "7d485cf6",
   "metadata": {},
   "outputs": [],
   "source": [
    "conn = sqlite3.connect('bc.db')\n",
    "c = conn.cursor()\n"
   ]
  },
  {
   "cell_type": "code",
   "execution_count": 6,
   "id": "adf2492e",
   "metadata": {},
   "outputs": [
    {
     "data": {
      "text/plain": [
       "569"
      ]
     },
     "execution_count": 6,
     "metadata": {},
     "output_type": "execute_result"
    }
   ],
   "source": [
    "df.to_sql('MaTable', conn, if_exists='replace', index=False)"
   ]
  },
  {
   "cell_type": "code",
   "execution_count": 7,
   "id": "5dd9999a",
   "metadata": {},
   "outputs": [],
   "source": [
    "conn.close()"
   ]
  },
  {
   "cell_type": "code",
   "execution_count": 9,
   "id": "8845e693",
   "metadata": {},
   "outputs": [],
   "source": [
    "#TODO 3: In the same db create a new table called tomatch with two variables id_ and rdm_float."
   ]
  },
  {
   "cell_type": "code",
   "execution_count": 8,
   "id": "beaf5f8f",
   "metadata": {},
   "outputs": [],
   "source": [
    "conn = sqlite3.connect('bc.db')\n",
    "c = conn.cursor()\n",
    "c.execute('''CREATE TABLE tomatch\n",
    "             (id_ INTEGER PRIMARY KEY,\n",
    "              rdm_float FLOAT)''')\n",
    "conn.commit()\n",
    "conn.close()"
   ]
  },
  {
   "cell_type": "code",
   "execution_count": null,
   "id": "418f9cf9",
   "metadata": {},
   "outputs": [],
   "source": [
    "#TODO 4: In the table tomatch insert observations where the id_ starts from 50k, \n",
    "#ends at 10000000 and is only even numbers. rdm_float is a float random for each observation"
   ]
  },
  {
   "cell_type": "code",
   "execution_count": 9,
   "id": "37f90213",
   "metadata": {},
   "outputs": [],
   "source": [
    "import random"
   ]
  },
  {
   "cell_type": "code",
   "execution_count": 10,
   "id": "3f6d7bf2",
   "metadata": {},
   "outputs": [],
   "source": [
    "conn = sqlite3.connect('bc.db')"
   ]
  },
  {
   "cell_type": "code",
   "execution_count": 11,
   "id": "9235be79",
   "metadata": {},
   "outputs": [],
   "source": [
    "observations = [(i, random.random()) for i in range(50000, 10000001, 2)]"
   ]
  },
  {
   "cell_type": "code",
   "execution_count": 12,
   "id": "bc37ae73",
   "metadata": {},
   "outputs": [],
   "source": [
    "c = conn.cursor()\n",
    "c.executemany('INSERT INTO tomatch (id_, rdm_float) VALUES (?, ?)', observations)\n",
    "conn.commit()"
   ]
  },
  {
   "cell_type": "code",
   "execution_count": 13,
   "id": "f48c4a84",
   "metadata": {},
   "outputs": [
    {
     "name": "stdout",
     "output_type": "stream",
     "text": [
      "[(862722, 13.997218106995879, 3401.3239999999987, 27.22, 6.981, 243)]\n"
     ]
    }
   ],
   "source": [
    "#TODO 5: Do an Inner join between the two tables \n",
    "#and compute the different aggregate functions on a column of your choice.\n",
    "c.execute(\"\"\"SELECT MaTable.id, AVG(MaTable.radius_mean), SUM(MaTable.radius_mean), MAX(MaTable.radius_mean), MIN(MaTable.radius_mean), COUNT(MaTable.radius_mean)\n",
    "FROM MaTable\n",
    "INNER JOIN  tomatch  ON MaTable.id = tomatch.id_\"\"\")\n",
    "docs = c.fetchall()\n",
    "print(docs)"
   ]
  },
  {
   "cell_type": "code",
   "execution_count": 14,
   "id": "07068349",
   "metadata": {},
   "outputs": [
    {
     "name": "stdout",
     "output_type": "stream",
     "text": [
      "[(106,)]\n"
     ]
    }
   ],
   "source": [
    "#TODO 6: How many observations have a radius_mean greater than 15 ? \n",
    "#From them how many have a texture_mean greater than 20 ?\n",
    "c.execute(\"\"\"select count(id)\n",
    "FROM MaTable\n",
    "WHERE radius_mean >15 and texture_mean > 20 \"\"\" )\n",
    "docs = c.fetchall()\n",
    "print(docs)"
   ]
  },
  {
   "cell_type": "code",
   "execution_count": 15,
   "id": "998e50e4",
   "metadata": {},
   "outputs": [
    {
     "name": "stdout",
     "output_type": "stream",
     "text": [
      "[(36818050.443396226, 17.46283018867925, 21.60490566037735, 115.36537735849062)]\n"
     ]
    }
   ],
   "source": [
    "#TODO 7: For each category in diagnosis what is the mean of all the variables ? \n",
    "#Compute the difference between the mean of both groups ( idée)\n",
    "c.execute(\"\"\"SELECT AVG(id), AVG(radius_mean), AVG(texture_mean), AVG(perimeter_mean)\n",
    "FROM MaTable\n",
    "WHERE diagnosis ='M'\n",
    "\"\"\")\n",
    "docs = c.fetchall()\n",
    "print(docs)"
   ]
  },
  {
   "cell_type": "code",
   "execution_count": 16,
   "id": "dbb7e920",
   "metadata": {},
   "outputs": [],
   "source": [
    "#TODO 8: Change the name of the column \"diagnosis\" to \"label\"\n",
    "c.execute(\"\"\"ALTER TABLE MaTable RENAME COLUMN diagnosis TO Label\"\"\")\n",
    "conn.commit()"
   ]
  },
  {
   "cell_type": "code",
   "execution_count": 17,
   "id": "b2e88984",
   "metadata": {},
   "outputs": [],
   "source": [
    "conn.close()"
   ]
  },
  {
   "cell_type": "code",
   "execution_count": 20,
   "id": "d9d32560",
   "metadata": {},
   "outputs": [],
   "source": [
    "conn = sqlite3.connect('bc.db')"
   ]
  },
  {
   "cell_type": "code",
   "execution_count": 21,
   "id": "e75cb8e8",
   "metadata": {},
   "outputs": [
    {
     "ename": "ProgrammingError",
     "evalue": "Cannot operate on a closed database.",
     "output_type": "error",
     "traceback": [
      "\u001b[1;31m---------------------------------------------------------------------------\u001b[0m",
      "\u001b[1;31mProgrammingError\u001b[0m                          Traceback (most recent call last)",
      "\u001b[1;32m~\\AppData\\Local\\Temp\\ipykernel_5140\\2882871316.py\u001b[0m in \u001b[0;36m<module>\u001b[1;34m\u001b[0m\n\u001b[0;32m      1\u001b[0m \u001b[1;31m#TODO 9: Change the type of the column \"area_mean\" to int\u001b[0m\u001b[1;33m\u001b[0m\u001b[1;33m\u001b[0m\u001b[0m\n\u001b[0;32m      2\u001b[0m \u001b[0mconn\u001b[0m \u001b[1;33m=\u001b[0m \u001b[0msqlite3\u001b[0m\u001b[1;33m.\u001b[0m\u001b[0mconnect\u001b[0m\u001b[1;33m(\u001b[0m\u001b[1;34m'bc.db'\u001b[0m\u001b[1;33m)\u001b[0m\u001b[1;33m\u001b[0m\u001b[1;33m\u001b[0m\u001b[0m\n\u001b[1;32m----> 3\u001b[1;33m \u001b[0mc\u001b[0m\u001b[1;33m.\u001b[0m\u001b[0mexecute\u001b[0m\u001b[1;33m(\u001b[0m\u001b[1;34m\"\"\"ALTER TABLE MaTable  ALTER COLUMN area_mean INTEGER \"\"\"\u001b[0m\u001b[1;33m)\u001b[0m\u001b[1;33m\u001b[0m\u001b[1;33m\u001b[0m\u001b[0m\n\u001b[0m\u001b[0;32m      4\u001b[0m \u001b[0mconn\u001b[0m\u001b[1;33m.\u001b[0m\u001b[0mcommit\u001b[0m\u001b[1;33m(\u001b[0m\u001b[1;33m)\u001b[0m\u001b[1;33m\u001b[0m\u001b[1;33m\u001b[0m\u001b[0m\n",
      "\u001b[1;31mProgrammingError\u001b[0m: Cannot operate on a closed database."
     ]
    }
   ],
   "source": [
    "#TODO 9: Change the type of the column \"area_mean\" to int\n",
    "conn = sqlite3.connect('bc.db')\n",
    "c.execute(\"\"\"ALTER TABLE MaTable  ALTER COLUMN area_mean INTEGER \"\"\")\n",
    "conn.commit()\n"
   ]
  },
  {
   "cell_type": "code",
   "execution_count": 22,
   "id": "0b40ea71",
   "metadata": {},
   "outputs": [],
   "source": [
    "#TODO 10: Add a column named \"day\" of type DATE.\n",
    "conn = sqlite3.connect('bc.db')\n",
    "c = conn.cursor()\n",
    "c.execute(\"\"\"ALTER TABLE MaTable ADD day DATE\"\"\")\n",
    "conn.commit()"
   ]
  },
  {
   "cell_type": "code",
   "execution_count": 23,
   "id": "96a6611e",
   "metadata": {},
   "outputs": [],
   "source": [
    "conn = sqlite3.connect('bc.db')\n",
    "c.execute('''CREATE TABLE tomatch2 AS\n",
    "             SELECT id_ + 10 AS id_, rdm_float\n",
    "             FROM tomatch''')\n",
    "conn.commit()\n"
   ]
  },
  {
   "cell_type": "code",
   "execution_count": 25,
   "id": "f999cee3",
   "metadata": {},
   "outputs": [
    {
     "name": "stdout",
     "output_type": "stream",
     "text": [
      "[(89122, 'M', 19.4, 18.18, 127.2, 1145.0, 0.1037, 0.1442, 0.1626, 0.09464, 0.1893, 0.05892, 0.4709, 0.9951, 2.903, 53.16, 0.005654, 0.02199, 0.03059, 0.01499, 0.01623, 0.001965, 23.79, 28.65, 152.4, 1628.0, 0.1518, 0.3749, 0.4316, 0.2252, 0.359, 0.07787, None, None, 89122, 0.5159286301514808, 89122, 0.596577962277758), (90312, 'M', 19.55, 23.21, 128.9, 1174.0, 0.101, 0.1318, 0.1856, 0.1021, 0.1989, 0.05884, 0.6107, 2.836, 5.383, 70.1, 0.01124, 0.04097, 0.07469, 0.03441, 0.02768, 0.00624, 20.82, 30.44, 142.0, 1313.0, 0.1251, 0.2414, 0.3829, 0.1825, 0.2576, 0.07602, None, None, 90312, 0.7621368498532403, 90312, 0.5384453399734267), (849014, 'M', 19.81, 22.15, 130.0, 1260.0, 0.09831, 0.1027, 0.1479, 0.09498, 0.1582, 0.05395, 0.7582, 1.017, 5.865, 112.4, 0.006494, 0.01893, 0.03391, 0.01521, 0.01356, 0.001997, 27.32, 30.88, 186.8, 2398.0, 0.1512, 0.315, 0.5372, 0.2388, 0.2768, 0.07615, None, None, 849014, 0.870928759987474, 849014, 0.8055386134934017), (852552, 'M', 16.65, 21.38, 110.0, 904.6, 0.1121, 0.1457, 0.1525, 0.0917, 0.1995, 0.0633, 0.8068, 0.9017, 5.455, 102.6, 0.006048, 0.01882, 0.02741, 0.0113, 0.01468, 0.002801, 26.46, 31.56, 177.0, 2215.0, 0.1805, 0.3578, 0.4695, 0.2095, 0.3613, 0.09564, None, None, 852552, 0.549366765487828, 852552, 0.5498759575237625), (854002, 'M', 19.27, 26.47, 127.9, 1162.0, 0.09401, 0.1719, 0.1657, 0.07593, 0.1853, 0.06261, 0.5558, 0.6062, 3.528, 68.17, 0.005015, 0.03318, 0.03497, 0.009643, 0.01543, 0.003896, 24.15, 30.9, 161.4, 1813.0, 0.1509, 0.659, 0.6091, 0.1785, 0.3672, 0.1123, None, None, 854002, 0.9381909687430497, 854002, 0.6136284427636033), (862028, 'M', 15.06, 19.83, 100.3, 705.6, 0.1039, 0.1553, 0.17, 0.08815, 0.1855, 0.06284, 0.4768, 0.9644, 3.706, 47.14, 0.00925, 0.03715, 0.04867, 0.01851, 0.01498, 0.00352, 18.23, 24.23, 123.5, 1025.0, 0.1551, 0.4203, 0.5203, 0.2115, 0.2834, 0.08234, None, None, 862028, 0.6058684890712194, 862028, 0.7682288989304256), (866674, 'M', 19.79, 25.12, 130.4, 1192.0, 0.1015, 0.1589, 0.2545, 0.1149, 0.2202, 0.06113, 0.4953, 1.199, 2.765, 63.33, 0.005033, 0.03179, 0.04755, 0.01043, 0.01578, 0.003224, 22.63, 33.58, 148.7, 1589.0, 0.1275, 0.3861, 0.5673, 0.1732, 0.3305, 0.08465, None, None, 866674, 0.6877307692130856, 866674, 0.9323158858387465), (869104, 'M', 16.11, 18.05, 105.1, 813.0, 0.09721, 0.1137, 0.09447, 0.05943, 0.1861, 0.06248, 0.7049, 1.332, 4.533, 74.08, 0.00677, 0.01938, 0.03067, 0.01167, 0.01875, 0.003434, 19.92, 25.27, 129.0, 1233.0, 0.1314, 0.2236, 0.2802, 0.1216, 0.2792, 0.08158, None, None, 869104, 0.5869966702532189, 869104, 0.6834528128042452), (884948, 'M', 20.94, 23.56, 138.9, 1364.0, 0.1007, 0.1606, 0.2712, 0.131, 0.2205, 0.05898, 1.004, 0.8208, 6.372, 137.9, 0.005283, 0.03908, 0.09518, 0.01864, 0.02401, 0.005002, 25.58, 27.0, 165.3, 2010.0, 0.1211, 0.3172, 0.6991, 0.2105, 0.3126, 0.07849, None, None, 884948, 0.5034833658104176, 884948, 0.9857385597983079), (895100, 'M', 20.34, 21.51, 135.9, 1264.0, 0.117, 0.1875, 0.2565, 0.1504, 0.2569, 0.0667, 0.5702, 1.023, 4.012, 69.06, 0.005485, 0.02431, 0.0319, 0.01369, 0.02768, 0.003345, 25.3, 31.86, 171.1, 1938.0, 0.1592, 0.4492, 0.5344, 0.2685, 0.5558, 0.1024, None, None, 895100, 0.5210975939607876, 895100, 0.5802841782309263), (903516, 'M', 21.61, 22.28, 144.4, 1407.0, 0.1167, 0.2087, 0.281, 0.1562, 0.2162, 0.06606, 0.6242, 0.9209, 4.158, 80.99, 0.005215, 0.03726, 0.04718, 0.01288, 0.02045, 0.004028, 26.23, 28.74, 172.0, 2081.0, 0.1502, 0.5717, 0.7053, 0.2422, 0.3828, 0.1007, None, None, 903516, 0.6609681606320184, 903516, 0.9244139577971036), (915460, 'M', 15.46, 23.95, 103.8, 731.3, 0.1183, 0.187, 0.203, 0.0852, 0.1807, 0.07083, 0.3331, 1.961, 2.937, 32.52, 0.009538, 0.0494, 0.06019, 0.02041, 0.02105, 0.006, 17.11, 36.33, 117.7, 909.4, 0.1732, 0.4967, 0.5911, 0.2163, 0.3013, 0.1067, None, None, 915460, 0.6558539515530587, 915460, 0.862583608602251), (926682, 'M', 20.13, 28.25, 131.2, 1261.0, 0.0978, 0.1034, 0.144, 0.09791, 0.1752, 0.05533, 0.7655, 2.463, 5.203, 99.04, 0.005769, 0.02423, 0.0395, 0.01678, 0.01898, 0.002498, 23.69, 38.25, 155.0, 1731.0, 0.1166, 0.1922, 0.3215, 0.1628, 0.2572, 0.06637, None, None, 926682, 0.9514267360357509, 926682, 0.7661164601441197), (8860702, 'M', 17.3, 17.08, 113.0, 928.2, 0.1008, 0.1041, 0.1266, 0.08353, 0.1813, 0.05613, 0.3093, 0.8568, 2.193, 33.63, 0.004757, 0.01503, 0.02332, 0.01262, 0.01394, 0.002362, 19.85, 25.09, 130.9, 1222.0, 0.1416, 0.2405, 0.3378, 0.1857, 0.3138, 0.08113, None, None, 8860702, 0.5143644477573291, 8860702, 0.8944689014609241), (8910988, 'M', 21.75, 20.99, 147.3, 1491.0, 0.09401, 0.1961, 0.2195, 0.1088, 0.1721, 0.06194, 1.167, 1.352, 8.867, 156.8, 0.005687, 0.0496, 0.06329, 0.01561, 0.01924, 0.004614, 28.19, 28.18, 195.9, 2384.0, 0.1272, 0.4725, 0.5807, 0.1841, 0.2833, 0.08858, None, None, 8910988, 0.6011720092900082, 8910988, 0.988069864223278), (8911670, 'M', 18.81, 19.98, 120.9, 1102.0, 0.08923, 0.05884, 0.0802, 0.05843, 0.155, 0.04996, 0.3283, 0.828, 2.363, 36.74, 0.007571, 0.01114, 0.02623, 0.01463, 0.0193, 0.001676, 19.96, 24.3, 129.0, 1236.0, 0.1243, 0.116, 0.221, 0.1294, 0.2567, 0.05737, None, None, 8911670, 0.6455045015127718, 8911670, 0.6497179921242289), (9010018, 'M', 15.08, 25.74, 98.0, 716.6, 0.1024, 0.09769, 0.1235, 0.06553, 0.1647, 0.06464, 0.6534, 1.506, 4.174, 63.37, 0.01052, 0.02431, 0.04912, 0.01746, 0.0212, 0.004867, 18.51, 33.22, 121.2, 1050.0, 0.166, 0.2356, 0.4029, 0.1526, 0.2654, 0.09438, None, None, 9010018, 0.7092282811188674, 9010018, 0.9055831028926992), (9010872, 'B', 16.5, 18.29, 106.6, 838.1, 0.09686, 0.08468, 0.05862, 0.04835, 0.1495, 0.05593, 0.3389, 1.439, 2.344, 33.58, 0.007257, 0.01805, 0.01832, 0.01033, 0.01694, 0.002001, 18.13, 25.45, 117.2, 1009.0, 0.1338, 0.1679, 0.1663, 0.09123, 0.2394, 0.06469, None, None, 9010872, 0.5193063774756951, 9010872, 0.5948869616978464), (9012568, 'B', 15.19, 13.21, 97.65, 711.8, 0.07963, 0.06934, 0.03393, 0.02657, 0.1721, 0.05544, 0.1783, 0.4125, 1.338, 17.72, 0.005012, 0.01485, 0.01551, 0.009155, 0.01647, 0.001767, 16.2, 15.73, 104.5, 819.1, 0.1126, 0.1737, 0.1362, 0.08178, 0.2487, 0.06766, None, None, 9012568, 0.6259540557803847, 9012568, 0.5753702204211665)]\n"
     ]
    }
   ],
   "source": [
    "#TODO 12: Do an inner join of bc, tomatch and tomatch2 where the radius_mean is greater than 15, \n",
    "#and the rdm_float is greater than 0.50 in tomatch AND tomatch2.\n",
    "c.execute('''SELECT *\n",
    "FROM MaTable\n",
    "INNER JOIN tomatch ON MaTable.id = tomatch.id_\n",
    "inner JOIN tomatch2 on MaTable.id = tomatch2.id_\n",
    "where  MaTable.radius_mean > 15\n",
    "And (tomatch.rdm_float >0.5) and (tomatch2.rdm_float > 0.5)\n",
    "''')\n",
    "docs = c.fetchall()\n",
    "print(docs)"
   ]
  },
  {
   "cell_type": "code",
   "execution_count": null,
   "id": "d51ef543",
   "metadata": {},
   "outputs": [],
   "source": []
  }
 ],
 "metadata": {
  "kernelspec": {
   "display_name": "Python 3 (ipykernel)",
   "language": "python",
   "name": "python3"
  },
  "language_info": {
   "codemirror_mode": {
    "name": "ipython",
    "version": 3
   },
   "file_extension": ".py",
   "mimetype": "text/x-python",
   "name": "python",
   "nbconvert_exporter": "python",
   "pygments_lexer": "ipython3",
   "version": "3.9.13"
  }
 },
 "nbformat": 4,
 "nbformat_minor": 5
}
