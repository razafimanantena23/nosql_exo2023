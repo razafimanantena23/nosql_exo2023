{
 "cells": [
  {
   "cell_type": "code",
   "execution_count": 1,
   "id": "a9f8793c",
   "metadata": {},
   "outputs": [],
   "source": [
    "#TODO 1: Lorem Ipsum is just a random txt that devs use as a placeholder for multiple things (especially\n",
    "#web developping) when you don't have the real text and just want to test your functionnality. \n",
    "#Put a Lorem Ipsum of 3 paragraphs in a txt file using python, each paragraph delimited by two new line."
   ]
  },
  {
   "cell_type": "code",
   "execution_count": 2,
   "id": "25633c54",
   "metadata": {},
   "outputs": [],
   "source": [
    "import tqdm"
   ]
  },
  {
   "cell_type": "code",
   "execution_count": 3,
   "id": "b4f0f06c",
   "metadata": {},
   "outputs": [],
   "source": [
    "lorem_ipsum=\"Lorem ipsum dolor sit amet, consectetur adipiscing elit. Praesent fringilla molestie dolor et lobortis. Praesent sed lobortis elit, id cursus augue. Pellentesque mauris nulla, hendrerit eget erat dignissim, rutrum cursus nisi. Morbi sit amet posuere enim. Mauris iaculis sapien a tincidunt cursus. Praesent blandit nisi eget justo sagittis fermentum. In sed ligula vel nisl viverra faucibus a ac urna. Suspendisse nec hendrerit massa. Mauris sagittis ante commodo ante dignissim, et euismod ex porttitor. Vestibulum in turpis viverra, aliquet magna id, interdum libero.\\nNulla accumsan maximus risus ut interdum. Nam suscipit ligula ac ante finibus fermentum. Fusce at euismod nibh. In dignissim nisl eget ligula pulvinar, vitae fermentum elit sodales. Donec condimentum, justo at consequat tincidunt, tortor ex facilisis nulla, vel aliquet purus metus vel mauris. Sed in erat rutrum, pulvinar ligula dignissim, convallis dolor. Fusce eget urna eleifend elit malesuada porttitor. Aenean elementum eu mi vitae pretium. Mauris odio est, sodales sit amet rutrum eu, egestas vitae dolor. Duis fermentum justo ipsum, tincidunt commodo mi dignissim eget. Aenean sit amet venenatis felis. Donec scelerisque aliquet maximus. Lorem ipsum dolor sit amet, consectetur adipiscing elit. Etiam et rhoncus nulla. Nam vitae metus posuere ex congue blandit. Pellentesque vehicula elit leo.\\nEtiam mattis diam eget aliquam condimentum. Fusce non egestas tellus, sed posuere lorem. Suspendisse purus felis, semper in convallis non, cursus id felis. Phasellus euismod, sem volutpat volutpat dictum, ex urna aliquam felis, fermentum porta enim nisi quis arcu. Proin lacinia urna eget urna eleifend, malesuada rhoncus tortor porttitor. Ut sed mi vitae odio ultricies tempor. Etiam bibendum ligula quis felis lobortis imperdiet. Praesent eleifend ex vitae quam molestie, at luctus libero efficitur. Donec pretium posuere ipsum. Pellentesque vulputate, leo a convallis accumsan, mauris risus convallis odio, vel viverra tellus neque sit amet nulla. Proin sit amet ante sit amet massa convallis vestibulum nec eget enim. Nulla eget sem neque. In finibus arcu in egestas vehicula.\""
   ]
  },
  {
   "cell_type": "code",
   "execution_count": 5,
   "id": "6e1e1d21",
   "metadata": {},
   "outputs": [],
   "source": [
    "with open(\"lorem_ipsum.txt\", \"w\") as file:\n",
    "        file.write(lorem_ipsum+ \"\\n\\n\")\n",
    "        file.write(lorem_ipsum+ \"\\n\\n\")\n",
    "        file.write(lorem_ipsum)\n",
    "    "
   ]
  },
  {
   "cell_type": "code",
   "execution_count": 6,
   "id": "a807b4c6",
   "metadata": {},
   "outputs": [],
   "source": [
    " p = lorem_ipsum.split('\\n')"
   ]
  },
  {
   "cell_type": "code",
   "execution_count": 9,
   "id": "35a22662",
   "metadata": {},
   "outputs": [],
   "source": [
    "with open(\"lorem_ipsum.txt\", \"w\") as file:\n",
    "    file.write(p[0] + \"\\n\\n\")\n",
    "    file.write(p[1] + \"\\n\\n\")\n",
    "    file.write(p[2]+ \"\\n\\n\")"
   ]
  },
  {
   "cell_type": "code",
   "execution_count": 10,
   "id": "d86f52d2",
   "metadata": {},
   "outputs": [],
   "source": [
    "#TODO 2: Update the txt file by removing the first paragraph.\n",
    "with open(\"lorem_ipsum.txt\", \"r\") as file:\n",
    "    text = file.read()"
   ]
  },
  {
   "cell_type": "code",
   "execution_count": 11,
   "id": "aba435a3",
   "metadata": {},
   "outputs": [],
   "source": [
    "paragraphs = text.split(\"\\n\\n\")"
   ]
  },
  {
   "cell_type": "code",
   "execution_count": 13,
   "id": "e342cfed",
   "metadata": {},
   "outputs": [
    {
     "data": {
      "text/plain": [
       "'Lorem ipsum dolor sit amet, consectetur adipiscing elit. Praesent fringilla molestie dolor et lobortis. Praesent sed lobortis elit, id cursus augue. Pellentesque mauris nulla, hendrerit eget erat dignissim, rutrum cursus nisi. Morbi sit amet posuere enim. Mauris iaculis sapien a tincidunt cursus. Praesent blandit nisi eget justo sagittis fermentum. In sed ligula vel nisl viverra faucibus a ac urna. Suspendisse nec hendrerit massa. Mauris sagittis ante commodo ante dignissim, et euismod ex porttitor. Vestibulum in turpis viverra, aliquet magna id, interdum libero.'"
      ]
     },
     "execution_count": 13,
     "metadata": {},
     "output_type": "execute_result"
    }
   ],
   "source": [
    "paragraphs.pop(0)"
   ]
  },
  {
   "cell_type": "code",
   "execution_count": 15,
   "id": "e6b244dc",
   "metadata": {},
   "outputs": [],
   "source": [
    "text_sansparagraphe1 = \"\\n\\n\".join(paragraphs)"
   ]
  },
  {
   "cell_type": "code",
   "execution_count": 16,
   "id": "a0f04c66",
   "metadata": {},
   "outputs": [],
   "source": [
    "with open(\"lorem_ipsum.txt\", \"w\") as file:\n",
    "    file.write(text_sansparagraphe1)"
   ]
  },
  {
   "cell_type": "code",
   "execution_count": 17,
   "id": "1529de83",
   "metadata": {},
   "outputs": [],
   "source": [
    "#TODO 3: Create a dict from the paper of lecun et al. and goodfellow et al. \n",
    "#with authors, title, affiliations."
   ]
  },
  {
   "cell_type": "code",
   "execution_count": 27,
   "id": "3a3e6b75",
   "metadata": {},
   "outputs": [],
   "source": [
    "paper1 = {\"authors\" : [\"Yann LeCun\", \"Yoshua Bengio\",\"Geoffrey Hinton\"],\n",
    "         \"title\" : \"Deep Learning\",\n",
    "         \"affiliation\" : \"Université de Montréal\"}\n",
    "paper2 ={\"authors\" : [\"Ian J. Goodfellow\", \"Jean Pouget-Abadie\", \"Mehdi Mirza\", \"Bing Xu\", \"David Warde-Farley\", \n",
    "                      \"Sherjil Ozair\", \"Aaron Courville\" , \"Yoshua Bengio\"],\n",
    "          \"title\" : \"Generative Adversarial Networks\",\n",
    "         \"affiliation\" : \"Cornell University\"}"
   ]
  },
  {
   "cell_type": "code",
   "execution_count": 28,
   "id": "13207534",
   "metadata": {},
   "outputs": [],
   "source": [
    "papers_dict = {\n",
    "    \"LeCun et al.\": paper1,\n",
    "    \"Goodfellow et al.\": paper2\n",
    "}"
   ]
  },
  {
   "cell_type": "code",
   "execution_count": 22,
   "id": "adf4629e",
   "metadata": {},
   "outputs": [],
   "source": [
    "#TODO 4: Save the previously created dict in the JSON format and load it back."
   ]
  },
  {
   "cell_type": "code",
   "execution_count": 23,
   "id": "d3ee42d2",
   "metadata": {},
   "outputs": [],
   "source": [
    "import json"
   ]
  },
  {
   "cell_type": "code",
   "execution_count": 30,
   "id": "0f0ec56a",
   "metadata": {},
   "outputs": [],
   "source": [
    "with open('papers.json', 'w') as file:\n",
    "    json.dump(papers_dict, file)"
   ]
  },
  {
   "cell_type": "code",
   "execution_count": 31,
   "id": "7f9e6b24",
   "metadata": {},
   "outputs": [],
   "source": [
    "with open('papers.json', 'r') as fp:\n",
    "    test= json.load(fp)"
   ]
  },
  {
   "cell_type": "code",
   "execution_count": 33,
   "id": "87d2ea58",
   "metadata": {},
   "outputs": [],
   "source": [
    "#TODO 5: Save the previously created dict in the pickle format. \n",
    "#Try to open manually (i.e with a text editor), is it human readable ?  réponse non "
   ]
  },
  {
   "cell_type": "code",
   "execution_count": 34,
   "id": "97eb34c3",
   "metadata": {},
   "outputs": [],
   "source": [
    "import pickle"
   ]
  },
  {
   "cell_type": "code",
   "execution_count": 35,
   "id": "febd8d0e",
   "metadata": {},
   "outputs": [],
   "source": [
    "with open(\"papers.pickle\", \"wb\") as file:\n",
    "    pickle.dump(papers_dict, file)"
   ]
  },
  {
   "cell_type": "code",
   "execution_count": 36,
   "id": "3c3669c7",
   "metadata": {},
   "outputs": [],
   "source": [
    "#TODO 6: Parse the xml_file2 in the same way as seen in the lecture:\n",
    "#put infos in a dict and save it in a json file."
   ]
  },
  {
   "cell_type": "code",
   "execution_count": 37,
   "id": "b0cd6cbb",
   "metadata": {},
   "outputs": [],
   "source": [
    "import lxml.etree"
   ]
  },
  {
   "cell_type": "code",
   "execution_count": 39,
   "id": "6672bcae",
   "metadata": {},
   "outputs": [],
   "source": [
    "xml_file2 = \"Chap2/xml_file2.nxml\"\n",
    "root = lxml.etree.parse(xml_file2)"
   ]
  },
  {
   "cell_type": "code",
   "execution_count": 40,
   "id": "3a7f49c1",
   "metadata": {},
   "outputs": [
    {
     "name": "stdout",
     "output_type": "stream",
     "text": [
      "<note>\n",
      "  <date>2015-09-01</date>\n",
      "  <hour>08:30</hour>\n",
      "  <to>Tove</to>\n",
      "  <from>Jani</from>\n",
      "  <body>Don't forget me this weekend!</body>\n",
      "</note>\n",
      "\n"
     ]
    }
   ],
   "source": [
    "print(lxml.etree.tostring(root, encoding=\"unicode\", pretty_print=True)) "
   ]
  },
  {
   "cell_type": "code",
   "execution_count": 43,
   "id": "97d3d5f5",
   "metadata": {},
   "outputs": [],
   "source": [
    "date = root.xpath(\"//date//text()\")\n",
    "hour = root.xpath(\"//hour//text()\")\n",
    "recipient = root.xpath(\"//to//text()\")\n",
    "sender = root.xpath(\"//from//text()\")\n",
    "body =root.xpath(\"//body//text()\")"
   ]
  },
  {
   "cell_type": "code",
   "execution_count": 45,
   "id": "5d8955c2",
   "metadata": {},
   "outputs": [],
   "source": [
    "info={\"date\":date,\"hour\":hour,\"recipient\":recipient,\"sender\":sender,\"body\":body}"
   ]
  },
  {
   "cell_type": "code",
   "execution_count": 47,
   "id": "bfa22b00",
   "metadata": {},
   "outputs": [],
   "source": [
    "with open('info.json', 'w') as file:\n",
    "    json.dump(info, file)"
   ]
  },
  {
   "cell_type": "code",
   "execution_count": 53,
   "id": "754a9eaf",
   "metadata": {},
   "outputs": [],
   "source": [
    "from PIL import Image\n",
    "import requests"
   ]
  },
  {
   "cell_type": "code",
   "execution_count": 48,
   "id": "f8568643",
   "metadata": {},
   "outputs": [],
   "source": [
    "#TODO 7: Download an image of your choice and save it in either jpg or png."
   ]
  },
  {
   "cell_type": "code",
   "execution_count": 55,
   "id": "d1ac3543",
   "metadata": {},
   "outputs": [],
   "source": [
    "im = Image.open(requests.get(\"https://www.pngall.com/wp-content/uploads/4/Cartman-PNG.png\", stream=True).raw)"
   ]
  },
  {
   "cell_type": "code",
   "execution_count": 57,
   "id": "6f5fa595",
   "metadata": {},
   "outputs": [],
   "source": [
    "im.save(\"image_cartman.png\", \"png\")"
   ]
  },
  {
   "cell_type": "code",
   "execution_count": 58,
   "id": "873ce174",
   "metadata": {},
   "outputs": [],
   "source": [
    "#TODO 8: From the data/Chap2/data_world.json file, create a set of publisher type."
   ]
  },
  {
   "cell_type": "code",
   "execution_count": 25,
   "id": "da811763",
   "metadata": {},
   "outputs": [],
   "source": [
    "import json\n",
    "with open('Chap2/data_world.json', 'r', encoding= \"utf-8\") as fp:\n",
    "    docs= json.load(fp)"
   ]
  },
  {
   "cell_type": "code",
   "execution_count": 28,
   "id": "75428b94",
   "metadata": {},
   "outputs": [],
   "source": [
    "for doc in (docs):\n",
    "    publisher_type=(doc['publisher']['@type'])"
   ]
  },
  {
   "cell_type": "code",
   "execution_count": 29,
   "id": "d7cfe2c9",
   "metadata": {},
   "outputs": [
    {
     "data": {
      "text/plain": [
       "'org:Organization'"
      ]
     },
     "execution_count": 29,
     "metadata": {},
     "output_type": "execute_result"
    }
   ],
   "source": [
    "publisher_type"
   ]
  },
  {
   "cell_type": "code",
   "execution_count": 20,
   "id": "d7e23652",
   "metadata": {},
   "outputs": [],
   "source": [
    "#TODO 9: From the data/Chap2/data_world.json file,\n",
    "#delete the key of your choice and save the new dict as data_world_cleaned.json."
   ]
  },
  {
   "cell_type": "code",
   "execution_count": 30,
   "id": "c1b35552",
   "metadata": {},
   "outputs": [
    {
     "data": {
      "text/plain": [
       "['DOC/NOAA/NESDIS/NODC > National Oceanographic Data Center',\n",
       " 'NESDIS',\n",
       " 'NOAA',\n",
       " 'U.S. Department of Commerce',\n",
       " 'DOC/NOAA/NESDIS/NCEI > National Centers for Environmental Information',\n",
       " 'NESDIS',\n",
       " 'NOAA',\n",
       " 'U.S. Department of Commerce',\n",
       " 'oceanography']"
      ]
     },
     "execution_count": 30,
     "metadata": {},
     "output_type": "execute_result"
    }
   ],
   "source": [
    "doc.pop('keyword')"
   ]
  },
  {
   "cell_type": "code",
   "execution_count": 32,
   "id": "aa11ace2",
   "metadata": {},
   "outputs": [],
   "source": [
    "with open('Chap2/data_world_cleaned.json', 'w') as fp:\n",
    "    json.dump(docs, fp)"
   ]
  },
  {
   "cell_type": "code",
   "execution_count": null,
   "id": "eb61fb5f",
   "metadata": {},
   "outputs": [],
   "source": []
  }
 ],
 "metadata": {
  "kernelspec": {
   "display_name": "Python 3 (ipykernel)",
   "language": "python",
   "name": "python3"
  },
  "language_info": {
   "codemirror_mode": {
    "name": "ipython",
    "version": 3
   },
   "file_extension": ".py",
   "mimetype": "text/x-python",
   "name": "python",
   "nbconvert_exporter": "python",
   "pygments_lexer": "ipython3",
   "version": "3.9.13"
  }
 },
 "nbformat": 4,
 "nbformat_minor": 5
}
