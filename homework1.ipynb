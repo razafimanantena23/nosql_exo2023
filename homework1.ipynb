{
 "cells": [
  {
   "cell_type": "code",
   "execution_count": 1,
   "id": "9c620f9d",
   "metadata": {},
   "outputs": [],
   "source": [
    "import json\n",
    "import pymongo\n",
    "from bson import ObjectId\n",
    "\n",
    "client = pymongo.MongoClient('localhost', 27017)\n",
    "# create db tutorial\n",
    "mydb = client[\"homework\"]\n",
    "# create collection example\n",
    "collection = mydb[\"pubmed\"]\n",
    "with open('Chap3/pubmed_cleaned.json') as file:\n",
    "    file_data = json.load(file)"
   ]
  },
  {
   "cell_type": "code",
   "execution_count": 6,
   "id": "6fd4696a",
   "metadata": {},
   "outputs": [],
   "source": [
    "for document in file_data:\n",
    "    if '_id' in document and '$oid'in document['_id']:\n",
    "        document['_id']= ObjectId(document['_id']['$oid'])\n",
    "collection.insert_many(file_data)    "
   ]
  },
  {
   "cell_type": "code",
   "execution_count": 16,
   "id": "dab35caf",
   "metadata": {},
   "outputs": [
    {
     "data": {
      "text/plain": [
       "'pmid_1'"
      ]
     },
     "execution_count": 16,
     "metadata": {},
     "output_type": "execute_result"
    }
   ],
   "source": [
    "#1)Create an index, explain your choice of key.\n",
    "collection.create_index([ (\"pmid\",1) ])"
   ]
  },
  {
   "cell_type": "code",
   "execution_count": 22,
   "id": "4382e053",
   "metadata": {},
   "outputs": [
    {
     "name": "stdout",
     "output_type": "stream",
     "text": [
      "Nombre de documents supprimés: 5\n"
     ]
    }
   ],
   "source": [
    "#2)Delete every paper that was published prior 2019\n",
    "result = collection.delete_many({\"date\": {\"$lt\": \"year 2019, month 1, day 1, hour 0, minute 0\"}})\n",
    "print(f\"Nombre de documents supprimés: {result.deleted_count}\")"
   ]
  },
  {
   "cell_type": "code",
   "execution_count": 2,
   "id": "d90c35d8",
   "metadata": {},
   "outputs": [
    {
     "name": "stdout",
     "output_type": "stream",
     "text": [
      "Nombre de documents avec un seul auteur : 99409\n"
     ]
    }
   ],
   "source": [
    "num_single_author_papers = collection.count_documents({\"authors\": {\"$regex\": \"name ml\"}})\n",
    "print(f\"Nombre de documents avec un seul auteur : {num_single_author_papers}\")"
   ]
  },
  {
   "cell_type": "code",
   "execution_count": 14,
   "id": "70779a23",
   "metadata": {},
   "outputs": [
    {
     "name": "stdout",
     "output_type": "stream",
     "text": [
      "Nombre de documents avec un seul auteur : 5480\n",
      "Nombre de documents avec deux auteurs : 10153\n"
     ]
    }
   ],
   "source": [
    "# 3)How many paper have a single author ? Two authors ?\n",
    "num_single_author_documents = 0\n",
    "num_two_authors_documents = 0\n",
    "\n",
    "# Compter le nombre de documents avec un seul auteur et deux auteurs\n",
    "for document in collection.find():\n",
    "    authors = document['authors'].split('\\n')\n",
    "    num_authors = len(authors)\n",
    "    if num_authors == 1:\n",
    "        num_single_author_documents += 1\n",
    "    elif num_authors == 2:\n",
    "        num_two_authors_documents += 1\n",
    "\n",
    "# Afficher les résultats\n",
    "print(\"Nombre de documents avec un seul auteur :\", num_single_author_documents)\n",
    "print(\"Nombre de documents avec deux auteurs :\", num_two_authors_documents)"
   ]
  },
  {
   "cell_type": "code",
   "execution_count": null,
   "id": "2861856d",
   "metadata": {},
   "outputs": [],
   "source": [
    "#4)What's the last paper inserted in the db ?\n",
    "x = collection.find_one(sort=[('_id', -1)])\n",
    "print(\"Last Paper:\")\n",
    "print(\"Title:\", last_paper['title'])\n",
    "print(\"Authors:\", last_paper['authors'])\n",
    "print(\"Date:\", last_paper['date'])"
   ]
  },
  {
   "cell_type": "code",
   "execution_count": null,
   "id": "e8625b34",
   "metadata": {},
   "outputs": [],
   "source": [
    "#5)Find articles with null meshwords.\n",
    "from pymongo import MongoClient\n",
    "\n",
    "client = MongoClient('localhost', 27017)\n",
    "db = client['homework']\n",
    "collection = db['pubmed']\n",
    "\n",
    "# Find articles with null meshwords\n",
    "articles_with_null_meshwords = collection.find({\"meshwords\": {\"$in\": [None, \"\"]}})\n",
    "\n",
    "# Print the details of articles with null meshwords\n",
    "print(\"Articles with null meshwords:\")\n",
    "for article in articles_with_null_meshwords:\n",
    "    print(\"Title:\", article['title'])"
   ]
  },
  {
   "cell_type": "code",
   "execution_count": 2,
   "id": "2fdbd6d4",
   "metadata": {},
   "outputs": [
    {
     "name": "stdout",
     "output_type": "stream",
     "text": [
      "Number of articles with the keyword 'machine learning': 521\n"
     ]
    }
   ],
   "source": [
    "#6)Choose a keyword you are interested in (machine learning, computer vision,...). \n",
    "#Find the number of articles with the choosen keyword in their meshwords, abstract or title.\n",
    "from pymongo import MongoClient\n",
    "client = MongoClient('localhost', 27017)\n",
    "db = client['homework']\n",
    "collection = db['pubmed']\n",
    "keyword = \"machine learning\"\n",
    "\n",
    "# Count the number of articles with the keyword in meshwords, abstract, or title\n",
    "article_count = collection.count_documents({\n",
    "    \"$or\": [\n",
    "        {\"meshwords\": {\"$regex\": f\".*{keyword}.*\", \"$options\": \"i\"}},\n",
    "        {\"abstract\": {\"$regex\": f\".*{keyword}.*\", \"$options\": \"i\"}},\n",
    "        {\"title\": {\"$regex\": f\".*{keyword}.*\", \"$options\": \"i\"}}\n",
    "    ]\n",
    "})\n",
    "\n",
    "print(f\"Number of articles with the keyword '{keyword}': {article_count}\")"
   ]
  },
  {
   "cell_type": "code",
   "execution_count": 1,
   "id": "6d9b04c5",
   "metadata": {},
   "outputs": [
    {
     "name": "stdout",
     "output_type": "stream",
     "text": [
      "Number of articles with at least one affiliation and meshwords: 75314\n"
     ]
    }
   ],
   "source": [
    "#7What's the number of articles that have atleast one affiliation AND meshwords.\n",
    "from pymongo import MongoClient\n",
    "\n",
    "client = MongoClient('localhost', 27017)\n",
    "db = client['homework']\n",
    "collection = db['pubmed']\n",
    "\n",
    "article_count = collection.count_documents({\n",
    "    \"$and\": [\n",
    "        {\"authors\": {\"$ne\": None}},\n",
    "        {\"meshwords\": {\"$ne\": None}}\n",
    "    ]\n",
    "})\n",
    "\n",
    "print(f\"Number of articles with at least one affiliation and meshwords: {article_count}\")"
   ]
  },
  {
   "cell_type": "code",
   "execution_count": 1,
   "id": "c1b6f1c6",
   "metadata": {},
   "outputs": [],
   "source": [
    "from pymongo import MongoClient\n",
    "\n",
    "client = MongoClient('localhost', 27017)\n",
    "db = client['homework']\n",
    "collection = db['pubmed']"
   ]
  },
  {
   "cell_type": "code",
   "execution_count": 2,
   "id": "5fb52369",
   "metadata": {},
   "outputs": [
    {
     "name": "stdout",
     "output_type": "stream",
     "text": [
      "Number of articles with a publishing date after 2020: 0\n"
     ]
    }
   ],
   "source": [
    "# 8)Count the number of articles with a publishing date after 2020\n",
    "article_count = collection.count_documents({\n",
    "    \"date\": {\"$gt\": \"year 2020\"}\n",
    "})\n",
    "\n",
    "print(f\"Number of articles with a publishing date after 2020: {article_count}\")"
   ]
  },
  {
   "cell_type": "code",
   "execution_count": null,
   "id": "2ef9e61f",
   "metadata": {},
   "outputs": [],
   "source": [
    "#9)Find articles where there's atleast one affiliation from a choosen country (you decide which one).\n",
    "# Count the number of articles with at least one affiliation from Canada\n",
    "article_count = collection.count_documents({\n",
    "    \"authors\": {\"$regex\": \"Canada\"}})\n",
    "print(\"Number of articles with at least one affiliation from Canada:\", article_count)\n",
    "article_country= collection.find({\"authors\":{\"$regex\": \"Canada\"}})\n",
    "for article in article_country:\n",
    "    print(\"ID:\", article[\"_id\"],\"Title :\", article[\"title\"])\n",
    "#4197"
   ]
  },
  {
   "cell_type": "code",
   "execution_count": 24,
   "id": "2b86229f",
   "metadata": {},
   "outputs": [
    {
     "name": "stdout",
     "output_type": "stream",
     "text": [
      "No duplicates found.\n"
     ]
    }
   ],
   "source": [
    "#10)Check for any duplicates\n",
    "distinct_pmids = collection.distinct(\"pmid\")\n",
    "# Check for duplicates\n",
    "duplicates = len(distinct_pmids) != collection.count_documents({})\n",
    "# Print the result\n",
    "if duplicates:\n",
    "    print(\"Duplicates found.\")\n",
    "else:\n",
    "    print(\"No duplicates found.\")"
   ]
  },
  {
   "cell_type": "code",
   "execution_count": 29,
   "id": "8c8f47e0",
   "metadata": {},
   "outputs": [
    {
     "name": "stdout",
     "output_type": "stream",
     "text": [
      "init count:  1918\n",
      "after delete many:  0\n"
     ]
    }
   ],
   "source": [
    "#11)Remove every articles where the abstract starts with an \"R\".\n",
    "print(\"init count: \",collection.count_documents({\"abstract\": {\"$regex\": \"^\\\\s*\\\"R\"}}))\n",
    "collection.delete_many({\"abstract\": {\"$regex\": \"^\\\\s*\\\"R\"}})\n",
    "print(\"after delete many: \",collection.count_documents({\"abstract\": {\"$regex\": \"^\\\\s*\\\"R\"}}))"
   ]
  },
  {
   "cell_type": "code",
   "execution_count": null,
   "id": "6c2e0b31",
   "metadata": {},
   "outputs": [],
   "source": [
    "#12)Return the list of papers (pmid) where there's atleast one affiliation per author\n",
    "papers = collection.find(\n",
    "    {\"authors\": {\"$exists\": True}}\n",
    ")\n",
    "paper_list = [paper[\"pmid\"] for paper in papers if len(paper.get(\"authors\", [])) > 0]\n",
    "print(paper_list)"
   ]
  },
  {
   "cell_type": "code",
   "execution_count": null,
   "id": "e51214b4",
   "metadata": {},
   "outputs": [],
   "source": [
    "#13)Create 500 random samples of the dataset, \n",
    "#compute a statistics that you are interested in and check how it behaves through the different samples\n",
    "# Set the number of samples\n",
    "num_samples = 500\n",
    "statistics = []\n",
    "\n",
    "for i in range(num_samples):\n",
    "    sample = collection.aggregate([\n",
    "        {\"$sample\": {\"size\": 100}}  \n",
    "    ])\n",
    "\n",
    "    team_sizes = [doc.get(\"team_size\", 0) for doc in sample]\n",
    "    average_team_size = sum(team_sizes) / len(team_sizes)\n",
    "    statistics.append(average_team_size)\n",
    "\n",
    "# Print the statistics( pas print car trop lourd pour github)\n",
    "print(statistics)"
   ]
  },
  {
   "cell_type": "code",
   "execution_count": 44,
   "id": "166be6a8",
   "metadata": {},
   "outputs": [
    {
     "name": "stdout",
     "output_type": "stream",
     "text": [
      "Number of articles with at least one affiliation from Unistra: 2\n"
     ]
    }
   ],
   "source": [
    "#14) check if there is Univeristy of strasbourg in the affilation\n",
    "article_unistra = collection.count_documents({\n",
    "    \"authors\": {\"$regex\": \"Strasburg\"}})\n",
    "print(\"Number of articles with at least one affiliation from Unistra:\", article_unistra)"
   ]
  },
  {
   "cell_type": "code",
   "execution_count": 45,
   "id": "a966d8cd",
   "metadata": {},
   "outputs": [
    {
     "name": "stdout",
     "output_type": "stream",
     "text": [
      "ID: 60c74063c4b7559e0409fade Title : Circulating aryl hydrocarbon receptor-interacting protein (AIP) is independent of GH secretion.\n",
      "ID: 60c751b2c4b7559e040f0669 Title : The incidence of adrenal crisis in the postoperative period of HPA axis insufficiency after surgical treatment for Cushing\\'s syndrome.\n"
     ]
    }
   ],
   "source": [
    "article_country= collection.find({\"authors\":{\"$regex\": \"Strasburg\"}})\n",
    "for article in article_country:\n",
    "    print(\"ID:\", article[\"_id\"],\"Title :\", article[\"title\"])"
   ]
  },
  {
   "cell_type": "code",
   "execution_count": null,
   "id": "922b7d9e",
   "metadata": {},
   "outputs": [],
   "source": []
  }
 ],
 "metadata": {
  "kernelspec": {
   "display_name": "Python 3 (ipykernel)",
   "language": "python",
   "name": "python3"
  },
  "language_info": {
   "codemirror_mode": {
    "name": "ipython",
    "version": 3
   },
   "file_extension": ".py",
   "mimetype": "text/x-python",
   "name": "python",
   "nbconvert_exporter": "python",
   "pygments_lexer": "ipython3",
   "version": "3.9.13"
  }
 },
 "nbformat": 4,
 "nbformat_minor": 5
}
