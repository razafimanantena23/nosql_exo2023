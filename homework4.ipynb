{
 "cells": [
  {
   "cell_type": "code",
   "execution_count": 1,
   "id": "1ad7e9c4",
   "metadata": {},
   "outputs": [],
   "source": [
    "import py2neo"
   ]
  },
  {
   "cell_type": "code",
   "execution_count": 7,
   "id": "a9c9b4d5",
   "metadata": {},
   "outputs": [],
   "source": [
    "graph = py2neo.Graph(\"bolt://localhost:7687\", auth=(\"neo4j\", \"password_tuts\"), name=\"movie\")"
   ]
  },
  {
   "cell_type": "code",
   "execution_count": null,
   "id": "71f9deba",
   "metadata": {},
   "outputs": [],
   "source": [
    "#1)How many actors played in more than 2 movie ? Get their names and year they were born."
   ]
  },
  {
   "cell_type": "code",
   "execution_count": 8,
   "id": "8d368556",
   "metadata": {},
   "outputs": [
    {
     "data": {
      "text/html": [
       "<table><tr><th>play</th></tr><tr><td style=\"text-align:left\">(_4:Person {born: 1960, name: &#039;Hugo Weaving&#039;})</td></tr><tr><td style=\"text-align:left\">(_3:Person {born: 1961, name: &#039;Laurence Fishburne&#039;})</td></tr><tr><td style=\"text-align:left\">(_2:Person {born: 1967, name: &#039;Carrie-Anne Moss&#039;})</td></tr></table>"
      ],
      "text/plain": [
       " play                                                 \n",
       "------------------------------------------------------\n",
       " (_4:Person {born: 1960, name: 'Hugo Weaving'})       \n",
       " (_3:Person {born: 1961, name: 'Laurence Fishburne'}) \n",
       " (_2:Person {born: 1967, name: 'Carrie-Anne Moss'})   "
      ]
     },
     "execution_count": 8,
     "metadata": {},
     "output_type": "execute_result"
    }
   ],
   "source": [
    "query = \"\"\"\n",
    "MATCH (m:Movie)<-[:ACTED_IN]-(play:Person)\n",
    "with play, count(m) as film where film > 2\n",
    "return play\n",
    "\"\"\"\n",
    "graph.run(query)"
   ]
  },
  {
   "cell_type": "code",
   "execution_count": 14,
   "id": "9f386d35",
   "metadata": {},
   "outputs": [
    {
     "name": "stdout",
     "output_type": "stream",
     "text": [
      "Tom Hanks Movies : 24\n"
     ]
    }
   ],
   "source": [
    "#2)In how many movies did Tom hanks play ?\n",
    "query = \"\"\"\n",
    "MATCH (m:Movie)<-[:ACTED_IN]-(play:Person{name:\"Tom Hanks\"})\n",
    "with count(play.name) as number\n",
    "return number\n",
    "\"\"\"\n",
    "graph.run(query)\n",
    "result = graph.run(query)\n",
    "\n",
    "for record in result:\n",
    "    tom_hanks_movies = record[0]\n",
    "    print(\"Tom Hanks Movies :\",tom_hanks_movies)"
   ]
  },
  {
   "cell_type": "code",
   "execution_count": 17,
   "id": "89c8d56d",
   "metadata": {},
   "outputs": [
    {
     "name": "stdout",
     "output_type": "stream",
     "text": [
      "Average number of movies per actor:  1.64\n"
     ]
    }
   ],
   "source": [
    "#3)In average in how many movies do actors play in ?\n",
    "query = \"\"\"\n",
    "MATCH (m:Movie)<-[:ACTED_IN]-(play:Person)\n",
    "WITH play, count(m) AS film\n",
    "RETURN avg(film) AS averageMovies\n",
    "\"\"\"\n",
    "result = graph.run(query)\n",
    "\n",
    "for record in result:\n",
    "    average_movies = round(record[\"averageMovies\"], 2)\n",
    "    print(\"Average number of movies per actor: \", average_movies)\n"
   ]
  },
  {
   "cell_type": "code",
   "execution_count": 30,
   "id": "31d81f6b",
   "metadata": {},
   "outputs": [
    {
     "name": "stdout",
     "output_type": "stream",
     "text": [
      "Average number of movies per actor:  4.5\n"
     ]
    }
   ],
   "source": [
    "#4)In average how many actors are there in a movie ?\n",
    "query = \"\"\"\n",
    "MATCH (m:Movie)<-[:ACTED_IN]-(play:Person)\n",
    "WITH m, count(DISTINCT play) as actorCount\n",
    "RETURN avg(actorCount) as averageActors\n",
    "\"\"\"\n",
    "result=graph.run(query)\n",
    "for record in result:\n",
    "    average_actors = round(record[\"averageActors\"], 2)\n",
    "    print(\"Average number of movies per actor: \", average_actors)\n"
   ]
  },
  {
   "cell_type": "code",
   "execution_count": 34,
   "id": "281a3a01",
   "metadata": {},
   "outputs": [
    {
     "name": "stdout",
     "output_type": "stream",
     "text": [
      "Average writers to write a movie  1.29\n"
     ]
    }
   ],
   "source": [
    "#5)In average how many writers is needed to write a movie ?\n",
    "query= \"\"\"\n",
    "MATCH (P:Person)-[:WROTE]->(m:Movie)\n",
    "with m,count(P.name) as nombre\n",
    "RETURN avg(nombre)\n",
    "\"\"\"\n",
    "result=graph.run(query)\n",
    "for record in result:\n",
    "    average_writers = round(record[\"avg(nombre)\"], 2)\n",
    "    print(\"Average writers to write a movie \", average_writers)"
   ]
  },
  {
   "cell_type": "code",
   "execution_count": 35,
   "id": "0cbba526",
   "metadata": {},
   "outputs": [
    {
     "data": {
      "text/html": [
       "<table><tr><th>writerDirectorCount</th></tr><tr><td style=\"text-align:right\">0</td></tr></table>"
      ],
      "text/plain": [
       " writerDirectorCount \n",
       "---------------------\n",
       "                   0 "
      ]
     },
     "execution_count": 35,
     "metadata": {},
     "output_type": "execute_result"
    }
   ],
   "source": [
    "#6)What is the proportion of writers that also directed the movie ?\n",
    "query= \"\"\"\n",
    "MATCH (m:Movie)<-[:WROTE]-(w:Writer)-[:DIRECTED]->(m)\n",
    "RETURN COUNT(DISTINCT w) AS writerDirectorCount\n",
    "\"\"\"\n",
    "result=graph.run(query)\n",
    "for record in result:\n",
    "    average_writers = round(record[\"avg(nombre)\"], 2)\n",
    "    print(\"Average writers to write a movie \", average_writers)"
   ]
  },
  {
   "cell_type": "code",
   "execution_count": 37,
   "id": "6d31acc8",
   "metadata": {},
   "outputs": [
    {
     "data": {
      "image/png": "[encoded data removed]",
      "text/plain": [
       "<Figure size 640x480 with 1 Axes>"
      ]
     },
     "metadata": {},
     "output_type": "display_data"
    }
   ],
   "source": [
    "#7)Do an histogram of the year of release for the movies.\n",
    "import seaborn as sns\n",
    "import matplotlib.pyplot as plt\n",
    "import pandas as pd\n",
    "\n",
    "# Execute the Cypher query\n",
    "query = \"MATCH (m:Movie) RETURN m.released AS year\"\n",
    "result = graph.run(query)\n",
    "\n",
    "# Fetch the results into a Pandas DataFrame\n",
    "data = pd.DataFrame([dict(record) for record in result])\n",
    "\n",
    "# Plot the histogram using Seaborn\n",
    "sns.histplot(data=data, x='year')\n",
    "\n",
    "# Show the plot\n",
    "plt.show()\n"
   ]
  },
  {
   "cell_type": "code",
   "execution_count": 39,
   "id": "8d81c8cb",
   "metadata": {},
   "outputs": [
    {
     "data": {
      "text/html": [
       "<table><tr><th>play.name</th><th>nombre_films</th></tr><tr><td style=\"text-align:left\">Tom Hanks</td><td style=\"text-align:right\">24</td></tr><tr><td style=\"text-align:left\">Keanu Reeves</td><td style=\"text-align:right\">14</td></tr><tr><td style=\"text-align:left\">Meg Ryan</td><td style=\"text-align:right\">10</td></tr></table>"
      ],
      "text/plain": [
       " play.name    | nombre_films \n",
       "--------------|--------------\n",
       " Tom Hanks    |           24 \n",
       " Keanu Reeves |           14 \n",
       " Meg Ryan     |           10 "
      ]
     },
     "execution_count": 39,
     "metadata": {},
     "output_type": "execute_result"
    }
   ],
   "source": [
    "#8)Who are the 10 actors with the most movie played in\n",
    "query = \"\"\"\n",
    "MATCH (m:Movie)<-[:ACTED_IN]-(play:Person)\n",
    "return play.name ,count(m) as nombre_films\n",
    "Order by nombre_films desc\n",
    "Limit 10\n",
    "\"\"\"\n",
    "graph.run(query)"
   ]
  },
  {
   "cell_type": "code",
   "execution_count": 41,
   "id": "7ea2c037",
   "metadata": {},
   "outputs": [
    {
     "data": {
      "text/html": [
       "(No data)"
      ],
      "text/plain": [
       "(No data)"
      ]
     },
     "execution_count": 41,
     "metadata": {},
     "output_type": "execute_result"
    }
   ],
   "source": [
    "#9) Delete every movie made by a director of your choosing\n",
    "query=\"\"\"\n",
    "MATCH (p:Person{name:\"James Marshall\"})-[:DIRECTED]->(m:Movie)\n",
    "DETACH DELETE m\n",
    "\"\"\"\n",
    "graph.run(query)"
   ]
  },
  {
   "cell_type": "code",
   "execution_count": 42,
   "id": "e3d8ad7a",
   "metadata": {},
   "outputs": [
    {
     "data": {
      "text/html": [
       "<table><tr><th>oldestMovie</th><th>newestMovie</th></tr><tr><td style=\"text-align:right\">1975</td><td style=\"text-align:right\">2019</td></tr></table>"
      ],
      "text/plain": [
       " oldestMovie | newestMovie \n",
       "-------------|-------------\n",
       "        1975 |        2019 "
      ]
     },
     "execution_count": 42,
     "metadata": {},
     "output_type": "execute_result"
    }
   ],
   "source": [
    "# 10) Give some statistics that you find interesting.\n",
    "# date oldest movie and newest movie\n",
    "query=\"\"\"\n",
    "MATCH (m:Movie)\n",
    "RETURN min(m.released) AS oldestMovie, max(m.released) AS newestMovie\n",
    "\"\"\"\n",
    "graph.run(query)"
   ]
  },
  {
   "cell_type": "code",
   "execution_count": 45,
   "id": "2bd5de97",
   "metadata": {},
   "outputs": [
    {
     "data": {
      "text/html": [
       "<table><tr><th>actor</th><th>birthYear</th></tr><tr><td style=\"text-align:left\">Max von Sydow</td><td style=\"text-align:right\">1929</td></tr></table>"
      ],
      "text/plain": [
       " actor         | birthYear \n",
       "---------------|-----------\n",
       " Max von Sydow |      1929 "
      ]
     },
     "execution_count": 45,
     "metadata": {},
     "output_type": "execute_result"
    }
   ],
   "source": [
    "#oldest actor\n",
    "query=\"\"\"\n",
    "MATCH (p:Person)\n",
    "WHERE exists(p.born)\n",
    "RETURN p.name AS actor, p.born AS birthYear\n",
    "ORDER BY birthYear ASC\n",
    "LIMIT 1\n",
    "\"\"\"\n",
    "graph.run(query)"
   ]
  },
  {
   "cell_type": "code",
   "execution_count": 50,
   "id": "d5bfdfdb",
   "metadata": {},
   "outputs": [
    {
     "data": {
      "text/html": [
       "<table><tr><th>releaseYear</th></tr><tr><td style=\"text-align:right\">1975</td></tr><tr><td style=\"text-align:right\">1986</td></tr><tr><td style=\"text-align:right\">1990</td></tr></table>"
      ],
      "text/plain": [
       " releaseYear \n",
       "-------------\n",
       "        1975 \n",
       "        1986 \n",
       "        1990 "
      ]
     },
     "execution_count": 50,
     "metadata": {},
     "output_type": "execute_result"
    }
   ],
   "source": [
    "#11) Sandbox exercise: think of a problematic and try to answer it.\n",
    "##unique movie release years\n",
    "query=\"\"\"\n",
    "MATCH (m:Movie)\n",
    "RETURN DISTINCT m.released AS releaseYear\n",
    "ORDER BY releaseYear ASC\n",
    "\"\"\"\n",
    "graph.run(query)\n"
   ]
  },
  {
   "cell_type": "code",
   "execution_count": null,
   "id": "60baf3dc",
   "metadata": {},
   "outputs": [],
   "source": []
  }
 ],
 "metadata": {
  "kernelspec": {
   "display_name": "Python 3 (ipykernel)",
   "language": "python",
   "name": "python3"
  },
  "language_info": {
   "codemirror_mode": {
    "name": "ipython",
    "version": 3
   },
   "file_extension": ".py",
   "mimetype": "text/x-python",
   "name": "python",
   "nbconvert_exporter": "python",
   "pygments_lexer": "ipython3",
   "version": "3.9.13"
  }
 },
 "nbformat": 4,
 "nbformat_minor": 5
}
